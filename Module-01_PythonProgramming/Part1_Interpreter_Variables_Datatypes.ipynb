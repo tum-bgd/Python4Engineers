{
 "cells": [
  {
   "cell_type": "markdown",
   "id": "c29512df-b086-4231-962a-cf094d9f5995",
   "metadata": {},
   "source": [
    "# Python Programming\n",
    "\n",
    "In this course, you will learn basic programming skills in Python.\n",
    "\n",
    "## Part 1: Interpreters, variables and primitive data types\n",
    "\n",
    "Topics in this part include:\n",
    "\n",
    "- interpreter\n",
    "- variables\n",
    "- primitive data types"
   ]
  },
  {
   "cell_type": "markdown",
   "id": "d1ff4178-debd-434c-909f-19a0bf565c86",
   "metadata": {},
   "source": [
    "### Interpreter\n",
    "\n",
    "Python is an interpreted language where the code is executed line by line. Compiled languages such as C++ and Go on the other hand require to compile the entire project before anythin can be run. Interpreted languages are often used in a read-eval-print-loop (REPL) where the Python is read, dynamically evaluated by the interpreter into machine code for execution, and upon execution prints out the result. That is to say, we can program **interactively** using Python, just like this notebook. Actually, the current jupyter notebook we are using is such an interactive shell with a user-friendly interface running in a browser. To execute a code block, select it and then use the hotkey `shift`+`enter` to execute it. Let's try this in the next block."
   ]
  },
  {
   "cell_type": "code",
   "execution_count": 1,
   "id": "08dc004b-1603-442b-92a8-68601faa2bc8",
   "metadata": {},
   "outputs": [
    {
     "data": {
      "text/plain": [
       "5"
      ]
     },
     "execution_count": 1,
     "metadata": {},
     "output_type": "execute_result"
    }
   ],
   "source": [
    "1 + 4"
   ]
  },
  {
   "cell_type": "markdown",
   "id": "87871da2-320d-41f9-837a-0e1bf1a51439",
   "metadata": {},
   "source": [
    "If, this worked, you should see the evaluated output `5` below the executed code block. Now let's print out something like the classic sentence *Hello, world!*."
   ]
  },
  {
   "cell_type": "code",
   "execution_count": null,
   "id": "c312f9df-d84f-428e-8026-3aa50466b0a8",
   "metadata": {},
   "outputs": [],
   "source": [
    "print(\"Hello, world!\")  # print out a string 'Hello, world!'"
   ]
  },
  {
   "cell_type": "markdown",
   "id": "d62c306d-630f-4262-9e4c-6b1916b1a872",
   "metadata": {},
   "source": [
    "Here, the built-in function `print` is used to output the content given as parameter (within the parentheses). We term this single line of code a `statement`. A Python interpreter executes statements sequentially. Statements are separated by line breaks. In other words, one line is one statement."
   ]
  },
  {
   "cell_type": "code",
   "execution_count": null,
   "id": "71f29eaf-9a65-47f6-922b-1c34796f8e4e",
   "metadata": {},
   "outputs": [],
   "source": [
    "print(\"Hello, world!\")  # 1st statement\n",
    "print(\"Today is Friday.\")  # 2nd statement\n",
    "print(\"How's the weather?\")  # 3rd statement"
   ]
  },
  {
   "cell_type": "markdown",
   "id": "27ced044-28a3-4d25-868c-226e3a182632",
   "metadata": {},
   "source": [
    "You may have noticed, that we have written some explanations like *# 1st statement* which are only shown in code but not shown in output. These are so called  **comments** in programming. It helps us (or other people) to understand the code by givng additonal context in case of forgetting or confusion. Comments are ignored when executing for all kinds of programmming languages. In Python, all content after a `#` on the same line will be considered a comment. We can also use tripple apostrophs `'''` to introduce multi line comments. "
   ]
  },
  {
   "cell_type": "code",
   "execution_count": null,
   "id": "60c01d82-9270-4163-94e8-24f9e453755c",
   "metadata": {},
   "outputs": [],
   "source": [
    "\"\"\"\n",
    "I am a multi-line comments.\n",
    "But nothing ever happens\n",
    "And I wonder\n",
    "\"\"\"\n",
    "\n",
    "print(\"Two kinds of comments.\")  # this is an inline comment"
   ]
  },
  {
   "cell_type": "markdown",
   "id": "7d757dc0-09bf-4c38-9b36-e0cd1b9412b5",
   "metadata": {},
   "source": [
    "### Variables\n",
    "\n",
    "Programming always involves different kinds of data. Defining a variable in Python is quite similar as mathematics. Just like"
   ]
  },
  {
   "cell_type": "code",
   "execution_count": null,
   "id": "527a7758-604e-45e7-9e48-4e0abd5f600b",
   "metadata": {},
   "outputs": [],
   "source": [
    "a = 1\n",
    "print(a)"
   ]
  },
  {
   "cell_type": "markdown",
   "id": "40ffaa7b-af0c-4d3e-9565-892ad5050d91",
   "metadata": {},
   "source": [
    "In the above example code, `a` is the name of the variable to which we assign with = the value 1. We should always initialize a value to the defined variable, or you may leave it as `None`. Note that if a variable is already existing, a new statement trying to modify this variable will overwrite the original value. Be aware that one can as well override built-in functions like `print`. If you assing a value to print like `print = 3`, you will not be able to use it anymore to print. In case you test it out, you may need to restart the jupyter kernel to get back the print functionality."
   ]
  },
  {
   "cell_type": "code",
   "execution_count": null,
   "id": "da23531d-d920-4cfb-b17d-68957a032f75",
   "metadata": {},
   "outputs": [],
   "source": [
    "b = None\n",
    "print(b)\n",
    "b = 3.14\n",
    "print(b)  # b is not None anymore."
   ]
  },
  {
   "cell_type": "markdown",
   "id": "a4241355-9c59-46a5-92d6-35825dec3f9c",
   "metadata": {},
   "source": [
    "There are several rules for naming a variable.\n",
    "\n",
    "1. A variable name must start with a letter or the underscore character\n",
    "2. A variable name cannot start with a number\n",
    "3. A variable name can only contain alpha-numeric characters and underscores (A-z, 0-9, and _)\n",
    "4. Variable names are case-sensitive (age, Age and AGE are three different variables)\n",
    "5. There are some words reserved as `keywords` in Python, we cannot use them to define a variable. Keywords include"
   ]
  },
  {
   "cell_type": "code",
   "execution_count": null,
   "id": "51fb2f85-c55a-4c63-beae-85af610fc745",
   "metadata": {},
   "outputs": [],
   "source": [
    "import keyword\n",
    "\n",
    "print(keyword.kwlist)"
   ]
  },
  {
   "cell_type": "markdown",
   "id": "517ee832-9af5-4aa0-874b-fae8915bfee0",
   "metadata": {},
   "source": [
    "You can find more information about naming [here](https://peps.python.org/pep-0008/#naming-conventions)."
   ]
  },
  {
   "cell_type": "markdown",
   "id": "fadb0451-cfb2-415e-84fe-93e023840344",
   "metadata": {},
   "source": [
    "### Primitive data types\n",
    "\n",
    "Built-in primitive data types in Python include\n",
    "\n",
    "| **Type**  | **Keyword** | **Values**                     | **Examples**                          |\n",
    "|-----------|-------------|--------------------------------|---------------------------------------|\n",
    "| Integer   | int         | integral numbers (no decimals) | -135 / -15 / 0 / 1 / 9 / 999          |\n",
    "| Float     | float       | real numbers (with decimals)   | -15.3 / 0.0 / 1.5 / 1 / 9.142         |\n",
    "| Complex   | complex     | complex numbers                | 5+1j / -2+0j / 0-15j                  |\n",
    "| Boolean   | bool        | binary / logical values        | True / False                          |\n",
    "| String    | str         | complex numbers                | 'Hello' / \"it's a text\" / 'C' / '123' |\n",
    "| None Type | NoneType    | single value for \"nothing\"     | None                            \n",
    "\n",
    "We can use the `type(x)` method for arbitrary variables `x` to know their type."
   ]
  },
  {
   "cell_type": "code",
   "execution_count": null,
   "id": "9dc06ede-53b1-4b7f-88a1-62c4ed62d64e",
   "metadata": {},
   "outputs": [],
   "source": [
    "print(type(a))\n",
    "print(type(b))\n",
    "print(type(1 + 3j))\n",
    "print(type(True))\n",
    "print(type(\"True\"))\n",
    "print(type(None))"
   ]
  },
  {
   "cell_type": "markdown",
   "id": "71e05763-d237-4c17-a1dc-87178793788a",
   "metadata": {},
   "source": [
    "You can also convert the type of values if necessary using built in conversion functions. `varNew = newtype(varOrigin)`. For example"
   ]
  },
  {
   "cell_type": "code",
   "execution_count": null,
   "id": "36568e68-8b59-4b29-b678-e75cb329938a",
   "metadata": {},
   "outputs": [],
   "source": [
    "# integer to float\n",
    "f = float(123)\n",
    "print(\"float(123) =\", f)\n",
    "\n",
    "# string to float (scientific notations like '2.3e3' or '-13.5e-5' are also convertable)\n",
    "f = float(\"5.1\")\n",
    "print(\"float('5.1') =\", f)\n",
    "\n",
    "# float to integer (this will drop decimals e.g. 1.9 -> 1 and -2.9 -> -2)\n",
    "i = int(141.6)\n",
    "print(\"int(141.6) =\", i)\n",
    "\n",
    "# string to integer\n",
    "i = int(\"-2341\")\n",
    "print(\"int('-2341') =\", i)\n",
    "\n",
    "# float or integer to string\n",
    "s = str(15.3)\n",
    "print(\"str(15.3) =\", s)\n",
    "\n",
    "# float or integer to boolean (every number that is not zero or minus zero will be converted to 'True')\n",
    "b = bool(-100.3)\n",
    "print(\"bool(-100.3) =\", b)\n",
    "\n",
    "# boolean to float or integer ('True' will be converted to 1.0, 'False' to 0.0)\n",
    "i = float(True)\n",
    "print(\"float(True) =\", i)\n",
    "\n",
    "# float to complex\n",
    "c = complex(1.5)\n",
    "print(\"complex(1.5) =\", c)\n",
    "\n",
    "# string to complex\n",
    "c = complex(\"1.5+1j\")\n",
    "print(\"complex('1.5+1j') =\", c)"
   ]
  },
  {
   "cell_type": "markdown",
   "id": "5a870dbd-7d69-4815-a8e7-d32733e6e61f",
   "metadata": {},
   "source": [
    "Unreasonable conversion will fail and trigger an error."
   ]
  },
  {
   "cell_type": "code",
   "execution_count": null,
   "id": "b87bd7d8-cbd4-4fc2-8582-45313a67e9cc",
   "metadata": {},
   "outputs": [],
   "source": [
    "# float(1.5+1j)\n",
    "# trigger TypeError: can't convert complex to float"
   ]
  },
  {
   "cell_type": "markdown",
   "id": "e794d430",
   "metadata": {},
   "source": [
    "### Tasks\n",
    "\n",
    "1. Create a variable `name` and asign your name to it.\n",
    "2. Print out the variable and check if it is of type `str` with the `type()` function.\n",
    "3. Create another variable `age` and asign your age to it.\n",
    "4. Convert the `age` variable to a `str` and asign it to `age_as_str`.\n",
    "5. Of which primitive type are `age` and `age_as_str`?"
   ]
  },
  {
   "cell_type": "code",
   "execution_count": null,
   "id": "8fbb1b65",
   "metadata": {},
   "outputs": [],
   "source": [
    "# For your code ..."
   ]
  }
 ],
 "metadata": {
  "kernelspec": {
   "display_name": ".venv",
   "language": "python",
   "name": "python3"
  },
  "language_info": {
   "codemirror_mode": {
    "name": "ipython",
    "version": 3
   },
   "file_extension": ".py",
   "mimetype": "text/x-python",
   "name": "python",
   "nbconvert_exporter": "python",
   "pygments_lexer": "ipython3",
   "version": "3.10.12"
  }
 },
 "nbformat": 4,
 "nbformat_minor": 5
}
