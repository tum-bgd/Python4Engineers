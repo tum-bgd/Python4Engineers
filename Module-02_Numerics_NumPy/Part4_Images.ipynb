{
 "cells": [
  {
   "cell_type": "markdown",
   "metadata": {},
   "source": [
    "# NumPy\n",
    "\n",
    "This module introduces NumPy for scientific computing.\n",
    "\n",
    "## Part 4: Images\n",
    "\n",
    "Images in computers are naturally ndarrays, typically, the first dimension of the shape is the `rows`, the second dimension is the `columns`, and the third dimension are the `bands`."
   ]
  },
  {
   "cell_type": "code",
   "execution_count": null,
   "metadata": {},
   "outputs": [],
   "source": [
    "import numpy as np\n",
    "from matplotlib import pyplot as plt\n",
    "\n",
    "# create an image of 10x20\n",
    "image = np.zeros(20*10).reshape(10,-1)\n",
    "print(image.shape)\n",
    "\n",
    "# colorize some pixels\n",
    "image[5,10] = 2\n",
    "image[6,10] = 0.5\n",
    "\n",
    "# plot image\n",
    "plt.imshow(image)\n",
    "plt.colorbar()\n",
    "plt.show()"
   ]
  },
  {
   "cell_type": "code",
   "execution_count": null,
   "metadata": {},
   "outputs": [],
   "source": [
    "# color an area\n",
    "image[4:7,4:7] = np.ones(3*3).reshape(3,-1)\n",
    "plt.imshow(image)"
   ]
  },
  {
   "cell_type": "code",
   "execution_count": null,
   "metadata": {},
   "outputs": [],
   "source": [
    "# create an RGB image with 100 rows, 200 columns, 3 colors\n",
    "image = np.zeros(100 * 200 * 3).reshape(100, 200, -1).astype(np.uint8)\n",
    "print(image.shape)\n",
    "\n",
    "# unsigned integer of 8 bit (np.uint8) = 0..255\n",
    "# the default color depth of images on screen\n",
    "\n",
    "# colorize some patches\n",
    "image[50:60, 50:60, 0] = 255 * (np.ones(10 * 10).reshape(10, -1))\n",
    "image[55:65, 50:60, 1] = 255 * (np.ones(10 * 10).reshape(10, -1))\n",
    "\n",
    "# plot\n",
    "plt.imshow(image)\n",
    "plt.show()"
   ]
  },
  {
   "cell_type": "code",
   "execution_count": null,
   "metadata": {},
   "outputs": [],
   "source": [
    "# same as above with floats\n",
    "image = np.zeros(100*200*3).reshape(100,200,-1).astype(np.float32) \n",
    "\n",
    "image[50:60,50:60,0] = 12*(np.ones(10*10).reshape(10,-1)) \n",
    "image[55:65,50:60,1] = 0.5*(np.ones(10*10).reshape(10,-1))\n",
    "\n",
    "plt.imshow(image)\n",
    "# remember: either cast images into np.uint8 or prepare them into [0,1] for all channels"
   ]
  },
  {
   "cell_type": "markdown",
   "metadata": {},
   "source": [
    "### Example: normalize by layer\n",
    "\n",
    "Sometimes images have strange value ranges. For deep learning one often wants to normalize to the range `[0,1]`. Linear normalization can be performed with the following formula:\n",
    "\n",
    "$$I_{N}=(I-{\\text{Min}}){\\frac {{\\text{newMax}}-{\\text{newMin}}}{{\\text{Max}}-{\\text{Min}}}}+{\\text{newMin}}$$"
   ]
  },
  {
   "cell_type": "code",
   "execution_count": null,
   "metadata": {},
   "outputs": [],
   "source": [
    "# some noise\n",
    "image = np.random.randint(0, 64000, size=(100, 200, 3))\n",
    "print(image.shape)\n",
    "\n",
    "# normalize\n",
    "new_min = 0\n",
    "new_max = 1\n",
    "\n",
    "band_min = np.amin(image, axis=(0,1))\n",
    "print(band_min)\n",
    "band_max = np.amax(image, axis=(0, 1))\n",
    "print(band_max)\n",
    "\n",
    "image = (image - band_min) * ((new_max - new_min) / (band_max - band_min) + new_min)\n",
    "\n",
    "# plot\n",
    "print(\"Range: %f -- %f\" % (np.min(image), np.max(image)))\n",
    "plt.imshow(image)"
   ]
  }
 ],
 "metadata": {
  "kernelspec": {
   "display_name": "Python 3 (ipykernel)",
   "language": "python",
   "name": "python3"
  },
  "language_info": {
   "codemirror_mode": {
    "name": "ipython",
    "version": 3
   },
   "file_extension": ".py",
   "mimetype": "text/x-python",
   "name": "python",
   "nbconvert_exporter": "python",
   "pygments_lexer": "ipython3",
   "version": "3.10.12"
  }
 },
 "nbformat": 4,
 "nbformat_minor": 4
}
