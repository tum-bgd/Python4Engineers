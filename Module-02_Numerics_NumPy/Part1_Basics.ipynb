{
 "cells": [
  {
   "cell_type": "markdown",
   "metadata": {},
   "source": [
    "# NumPy\n",
    "\n",
    "This module introduces NumPy for scientific computing.\n",
    "\n",
    "## Part 1: Basics\n",
    "\n",
    "This part covers the following basic concepts of NumPy:\n",
    "\n",
    "- The `ndarray` data model\n",
    "- Array Creation Routines\n",
    "- Array Manipulation Routines\n",
    "- Linear Algebra Routines"
   ]
  },
  {
   "cell_type": "markdown",
   "metadata": {},
   "source": [
    "### Introduction\n",
    "\n",
    "NumPy (**Num**erical **Py**thon) is an open source Python library that’s widely used in science and engineering[^1]. For example, you can use it for working with vectors, matrices, linear algebra, optimization and much more. Behind the scene it relies on C++ libraries for numeric calculations. It is comparably fast as it is designed around Python's buffer interface which means that for many operations that one can do, no data is being copied."
   ]
  },
  {
   "cell_type": "markdown",
   "metadata": {},
   "source": [
    "\n",
    "### The `ndarray` data model\n",
    "\n",
    "The central data structure in NumPy is the `ndarray` object. It encapsulates n-dimensional arrays of homogeneous types. Classical computers have a linear main memory. That is, somehow, we can have memory space for one or more variables of the same type, say N numbers, but we cannot (initially) have a memory for a 3x3 matrix. The nD-array data structure is now a wrapper which *internally* reserves spaces for a certain number of values, but is associated with shape and stride information telling, how this 1D array of values is going to be interpreted as a n-dimensional array. Some aspects (e.g., strides) are not visible from Python, so we will ignore them for now, but the shape is an important concept.\n",
    "\n"
   ]
  },
  {
   "cell_type": "markdown",
   "metadata": {},
   "source": [
    "### Creation and Inspection\n",
    "\n",
    "Lets create some arrays and inspect their values and shape."
   ]
  },
  {
   "cell_type": "code",
   "execution_count": null,
   "metadata": {},
   "outputs": [],
   "source": [
    "import numpy as np\n",
    "\n",
    "# create and array from a list (or tuple)\n",
    "A = np.array([1, 2, 3, 4])\n",
    "print(\"array:\", A)\n",
    "\n",
    "# print shape\n",
    "print(\"shape:\", A.shape)\n",
    "\n",
    "# print the number of dimensions and number of elements\n",
    "print(\"ndim (number of dimensions):\", A.ndim)\n",
    "print(\"size (number of elements):\", A.size)"
   ]
  },
  {
   "cell_type": "markdown",
   "metadata": {},
   "source": [
    "Some more common ways to create and array. For a full list of possible array creation routines see <https://numpy.org/doc/stable/reference/routines.array-creation.html#routines-array-creation>"
   ]
  },
  {
   "cell_type": "code",
   "execution_count": null,
   "metadata": {},
   "outputs": [],
   "source": [
    "# integer range\n",
    "A = np.arange(4)\n",
    "print(\"range:\\n\", A)\n",
    "print(\"shape:\", A.shape)\n",
    "\n",
    "# zeros\n",
    "A = np.zeros(3)\n",
    "print(\"zeros:\\n\", A)\n",
    "print(\"shape:\", A.shape)\n",
    "\n",
    "# ones\n",
    "A = np.ones(3)\n",
    "print(\"ones:\\n\", A)\n",
    "print(\"shape:\", A.shape)\n",
    "\n",
    "# random floats\n",
    "A = np.random.rand(2, 3)\n",
    "print(\"random (float):\\n\", A)\n",
    "print(\"shape:\", A.shape)\n",
    "\n",
    "# eye\n",
    "A = np.eye(2)\n",
    "print(\"eye:\\n\", A)\n",
    "print(\"shape:\", A.shape)"
   ]
  },
  {
   "cell_type": "markdown",
   "metadata": {},
   "source": [
    "### Array Manipulations\n",
    "\n",
    "With the `reshape` function one can change the shape of an array. The size will stay the same, hence the dimensions must match.\n",
    "\n",
    "Considering an array with 4 values and the shape is a tuple with a single entry 4. Let us turn this into a 2x2 matrix:"
   ]
  },
  {
   "cell_type": "code",
   "execution_count": null,
   "metadata": {},
   "outputs": [],
   "source": [
    "# array with 4 values and shape (4,)\n",
    "A = np.array([1, 2, 3, 4])\n",
    "print(\"array:\\n\", A)\n",
    "print(\"shape\", A.shape)\n",
    "\n",
    "# reshape to a 2x2 matrix\n",
    "m = A.reshape(2, 2)\n",
    "print(\"matrix:\\n\", m)\n",
    "print(\"shape\", m.shape)"
   ]
  },
  {
   "cell_type": "markdown",
   "metadata": {},
   "source": [
    "One can use `-1` to indicate an automatically determined a fitting shape value for one dimension."
   ]
  },
  {
   "cell_type": "code",
   "execution_count": null,
   "metadata": {},
   "outputs": [],
   "source": [
    "# create array with 4 values and shape (4,)\n",
    "A = np.array([1, 1, 1, 1])\n",
    "print(A)\n",
    "print(\"shape\", A.shape)\n",
    "\n",
    "# reshape to shape (x, 1)\n",
    "B = A.reshape(-1, 1)\n",
    "print(B)\n",
    "print(\"shape\", B.shape)"
   ]
  },
  {
   "cell_type": "markdown",
   "metadata": {},
   "source": [
    "There are many more built in routines, like for example, stacking, transpose, joining, splitting and tiling, to manipulate an array. For a complete list, see <https://numpy.org/doc/stable/reference/routines.array-manipulation.html>"
   ]
  },
  {
   "cell_type": "code",
   "execution_count": null,
   "metadata": {},
   "outputs": [],
   "source": [
    "# stack\n",
    "A = np.array([1, 1])\n",
    "B = np.array([2, 2])\n",
    "\n",
    "S = np.stack((A, B), axis=1)\n",
    "print(\"stac:\\n\", S)\n",
    "\n",
    "H = np.hstack((A, B))\n",
    "print(\"hstac:\\n\", H)\n",
    "\n",
    "V = np.vstack((A, B))\n",
    "print(\"vstac:\\n\", V)\n",
    "\n",
    "# transpose\n",
    "m = np.arange(4).reshape(2, 2)\n",
    "print(\"matrix:\\n\", m)\n",
    "m_transposed = m.transpose()  # same as m.T\n",
    "print(\"transpose:\\n\", m_transposed)"
   ]
  },
  {
   "cell_type": "markdown",
   "metadata": {},
   "source": [
    "### Linear Algebra - Matrix Multiplication\n",
    "\n",
    "Matrix multiplication is now easy. And many other linear algebra things, see <https://numpy.org/doc/stable/reference/routines.linalg.html>"
   ]
  },
  {
   "cell_type": "code",
   "execution_count": null,
   "metadata": {},
   "outputs": [],
   "source": [
    "x1 = np.array([1, 1])\n",
    "x2 = np.array([2, 2])\n",
    "\n",
    "# matrix multiplication\n",
    "y = np.matmul(x1, x2)  # same as `x1 @ x2`\n",
    "print(y)\n",
    "\n",
    "# dot product\n",
    "y2 = np.dot(x1, x2)\n",
    "print(y2)"
   ]
  }
 ],
 "metadata": {
  "kernelspec": {
   "display_name": "Python 3 (ipykernel)",
   "language": "python",
   "name": "python3"
  },
  "language_info": {
   "codemirror_mode": {
    "name": "ipython",
    "version": 3
   },
   "file_extension": ".py",
   "mimetype": "text/x-python",
   "name": "python",
   "nbconvert_exporter": "python",
   "pygments_lexer": "ipython3",
   "version": "3.10.12"
  }
 },
 "nbformat": 4,
 "nbformat_minor": 4
}
