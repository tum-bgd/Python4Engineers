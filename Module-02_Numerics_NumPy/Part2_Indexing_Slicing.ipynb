{
 "cells": [
  {
   "cell_type": "markdown",
   "id": "ad733c66",
   "metadata": {},
   "source": [
    "# NumPy\n",
    "\n",
    "This module introduces NumPy for scientific computing.\n",
    "\n",
    "# Part 2: Indexing and Slicing\n",
    "\n",
    "In this part, you learn how to access and manipulate parts of an `ndarray`, mainly by indexing and slicing.\n"
   ]
  },
  {
   "cell_type": "markdown",
   "id": "c9daf504",
   "metadata": {},
   "source": [
    "### Indexing\n",
    "\n",
    "Single elements can be accessed by standart Python sequence indexing syntax: `x[i]`. "
   ]
  },
  {
   "cell_type": "code",
   "execution_count": null,
   "id": "a3c54389-cbc6-4900-a618-eb7d3a9bd9b2",
   "metadata": {},
   "outputs": [],
   "source": [
    "import numpy as np\n",
    "\n",
    "\n",
    "x = np.arange(9)\n",
    "print(x)\n",
    "\n",
    "# get the first element\n",
    "print(x[0])\n",
    "\n",
    "# get the second last element\n",
    "print(x[-2])"
   ]
  },
  {
   "cell_type": "markdown",
   "id": "b6405539",
   "metadata": {},
   "source": [
    "Multidimensional indexing works similar with either `x[i][j]`, `x[i, j]` or `x[(i, j)]`."
   ]
  },
  {
   "cell_type": "code",
   "execution_count": null,
   "id": "fbb13701",
   "metadata": {},
   "outputs": [],
   "source": [
    "# convert to two dimensional array with shape (3, 3)\n",
    "x.shape = (3, 3)\n",
    "print(x)\n",
    "\n",
    "# get element at (1, 1)\n",
    "print(x[1][1])  # dont use this, performance is suboptimal\n",
    "print(x[1, 1])\n",
    "print(x[(1, 1)])"
   ]
  },
  {
   "cell_type": "markdown",
   "id": "87755c33",
   "metadata": {},
   "source": [
    "### Slicing and striding\n",
    "\n",
    "The Python slicing concept is as well extended to N dimensions. A slicing notation is `start:stop:step`."
   ]
  },
  {
   "cell_type": "code",
   "execution_count": null,
   "id": "ab9e3c51",
   "metadata": {},
   "outputs": [],
   "source": [
    "x = np.arange(12)\n",
    "print(x)\n",
    "\n",
    "# get a slice from index 2 to 4 (exlusive)\n",
    "print(x[2:4])\n",
    "\n",
    "# get last three elements\n",
    "print(x[-3:])\n",
    "\n",
    "# get every second element (stride = 2)\n",
    "print(x[::2])"
   ]
  },
  {
   "cell_type": "markdown",
   "id": "76fd25ae",
   "metadata": {},
   "source": [
    "This works as well on multidimensional arrays."
   ]
  },
  {
   "cell_type": "code",
   "execution_count": null,
   "id": "3c81acf3",
   "metadata": {},
   "outputs": [],
   "source": [
    "# convert to two dimensional array with shape (3, 4)\n",
    "x.shape = (3, 4)\n",
    "print(x)\n",
    "\n",
    "# get a slice (2, 2)\n",
    "print(x[:2, :2])\n",
    "\n",
    "# get third row\n",
    "print(x[2, :])\n",
    "print(x[2])  # equivalent with single index\n",
    "\n",
    "# get first column\n",
    "print(x[:, 0])  # shape (3,)\n",
    "print(x[:, 0:1])  # shape (3, 1)\n",
    "\n",
    "# stride of two\n",
    "print(x[::2, ::2])  # shape (2, 2)"
   ]
  },
  {
   "cell_type": "markdown",
   "id": "67a8aa92",
   "metadata": {},
   "source": [
    "### Note on copies and views!\n",
    "\n",
    "Slicing operations return a `view` to an array. A view has its own metadata but shares the undelying data buffer containing the element values. To make a copy use `x.copy()`. Some examples:"
   ]
  },
  {
   "cell_type": "code",
   "execution_count": null,
   "id": "b4fa195d",
   "metadata": {},
   "outputs": [],
   "source": [
    "x = np.arange(6).reshape(2, 3)\n",
    "print(x)\n",
    "print(x.base is not None)\n",
    "\n",
    "# view on the first two columns\n",
    "x_view = x[:, :2]\n",
    "print(x_view)\n",
    "\n",
    "# mutate view (mutates x as well)\n",
    "x_view[0, 0] = 9\n",
    "print(x)\n",
    "\n",
    "# reshape creates a view or a copy, yolo!\n",
    "x_reshaped = x.reshape(3, 2)\n",
    "x_reshaped[1, -1] = 99\n",
    "print(x)\n",
    "\n",
    "# test if array is a view\n",
    "print(x_reshaped.base is not None)\n",
    "\n",
    "# make a copy to duplicate the buffer\n",
    "x_copy = x[:, :2].copy()\n",
    "# mutate copy (no changes to x or x_view)\n",
    "x_copy[0, 0] = 0\n",
    "print(x_copy)\n",
    "print(x)\n",
    "\n",
    "# asigning an array to another variable just creates a pointer to the same object\n",
    "x_another = x  # share data and metadata\n",
    "x_another.shape = (3, 2)\n",
    "print(x.shape)"
   ]
  },
  {
   "cell_type": "markdown",
   "id": "01bc3ca0",
   "metadata": {},
   "source": [
    "### Advanced Indexing\n",
    "\n",
    "Indexing is also possible with integer or boolean lists or ndarrays."
   ]
  },
  {
   "cell_type": "code",
   "execution_count": null,
   "id": "c7e38782",
   "metadata": {},
   "outputs": [],
   "source": [
    "x = np.arange(10)\n",
    "\n",
    "# select multiple by index\n",
    "print(x[[4, 9, 0]])\n",
    "\n",
    "# filter\n",
    "f = x > 5\n",
    "print(f)\n",
    "print(x[f])"
   ]
  },
  {
   "cell_type": "markdown",
   "id": "8eb01378",
   "metadata": {},
   "source": [
    "### Assignment with Indexing\n",
    "\n",
    "Partial assignment works together with indexing."
   ]
  },
  {
   "cell_type": "code",
   "execution_count": null,
   "id": "b01d4f58",
   "metadata": {},
   "outputs": [],
   "source": [
    "# set values lager than five to 99\n",
    "x[x > 5] = 99\n",
    "print(x)\n",
    "\n",
    "# asign values from another array of same shape as the indexed view\n",
    "x[::2] = np.zeros(5)\n",
    "print(x)"
   ]
  },
  {
   "cell_type": "markdown",
   "id": "0c19b527",
   "metadata": {},
   "source": [
    "### Broadcasting\n",
    "\n",
    "Many operations on ndarrays, like for example matrix multiplication, require a matching combination of shapes to work and make sense. In NumPy broadcasting ist the process of stretching arrays to match up automatically whenever possible."
   ]
  },
  {
   "cell_type": "code",
   "execution_count": null,
   "id": "c120c5e4",
   "metadata": {},
   "outputs": [],
   "source": [
    "import numpy as np\n",
    "\n",
    "\n",
    "x = np.zeros(9).reshape(3, 3)\n",
    "\n",
    "# add one: somewhat expected to perform elements wise\n",
    "print(x + 1)\n",
    "\n",
    "# add array: broadcast along the first axis\n",
    "print(x + np.arange(3))\n",
    "\n",
    "# add matrix with one row to matrix with one column\n",
    "row = np.arange(3).reshape(1, -1)\n",
    "column = np.arange(4).reshape(-1, 1)\n",
    "print(row * column)  # shape (3,4)"
   ]
  }
 ],
 "metadata": {
  "kernelspec": {
   "display_name": "Python 3 (ipykernel)",
   "language": "python",
   "name": "python3"
  },
  "language_info": {
   "codemirror_mode": {
    "name": "ipython",
    "version": 3
   },
   "file_extension": ".py",
   "mimetype": "text/x-python",
   "name": "python",
   "nbconvert_exporter": "python",
   "pygments_lexer": "ipython3",
   "version": "3.10.12"
  }
 },
 "nbformat": 4,
 "nbformat_minor": 5
}
