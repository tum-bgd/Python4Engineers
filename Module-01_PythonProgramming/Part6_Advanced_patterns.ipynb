{
 "cells": [
  {
   "cell_type": "markdown",
   "id": "8556c6e3-7ea0-43d7-90eb-a48cfa91d674",
   "metadata": {},
   "source": [
    "# Python Programming\n",
    "\n",
    "In this course, you will learn basic programming skills in Python.\n",
    "\n",
    "## Part 6: Advanced patterns\n",
    "\n",
    "In this part we will learn some advanced patterns in Python, including\n",
    "\n",
    "- classes\n",
    "- coroutines\n",
    "- iterators"
   ]
  },
  {
   "cell_type": "markdown",
   "id": "9b9a9ea4-5fab-4a07-8fd8-13fad16db9c8",
   "metadata": {},
   "source": [
    "### Classes\n",
    "\n",
    "Classes can be seen as definitions of particular objects including constructors, attributes and methods. The general idea is that we define a class in order to create multiple instances of it, that all share some functionalities. Today the object-oriented programming (OOP) is used in most programs."
   ]
  },
  {
   "cell_type": "markdown",
   "id": "a5904dc3-12c7-4812-9016-4f3c26e837de",
   "metadata": {},
   "source": [
    "#### Class definition\n",
    "\n",
    "The following cell defines the class `dog`. The class contains multiple methods (methods are functions of a class)."
   ]
  },
  {
   "cell_type": "code",
   "execution_count": null,
   "id": "bbb7f102-51bc-4d2c-8609-feb12d1d63c7",
   "metadata": {},
   "outputs": [],
   "source": [
    "class Dog:                        # the definition of a class starts with the class keyword and the name of the class\n",
    "    def __init__(self, name):     # the init method defines the creation of an instance of this class\n",
    "        self.name = name      \n",
    "        self.age = 0              # our dogs will have two attributes: name and age. 'self' refers to the new dog-object\n",
    "        \n",
    "    def celebrate_birthday(self): # this method will increase the age of the corresponding object by one\n",
    "        self.age += 1\n",
    "    \n",
    "    def rename(self, new_name):   # this method takes a new name as argument and assignes it to the dogs name\n",
    "        self.name = new_name\n",
    "    \n",
    "    def __str__(self):            # definition how to cast a dog to a printable string\n",
    "        return '{}, {} years old'.format(self.name, self.age)"
   ]
  },
  {
   "cell_type": "markdown",
   "id": "854239db-899a-476c-bc4d-02bed6bb87dc",
   "metadata": {},
   "source": [
    "#### Class usage\n",
    "\n",
    "Now we will create two instances of that class and use some of their methods."
   ]
  },
  {
   "cell_type": "code",
   "execution_count": null,
   "id": "f2532e17-6a10-41f3-8936-e29069f68ad7",
   "metadata": {},
   "outputs": [],
   "source": [
    "dog1 = Dog('Bonny')               # initialization of a dog. Note that only one argument is given (the name)\n",
    "dog2 = Dog('Clyde')               # 'self' is always passed implicitly\n",
    "\n",
    "dog1.rename('Bonnie')             # call of dog1s rename method with dot operator \n",
    "\n",
    "for i in range(5):\n",
    "    dog1.celebrate_birthday()\n",
    "    dog2.celebrate_birthday()     # call celebrate_birthday() 5 times for both dogs\n",
    "\n",
    "print(dog1)\n",
    "print(dog2)                       # print will implicitly use our implemented string conversion\n",
    "\n",
    "print(dog1.age)                   # access attribute of dog1 with dot operator"
   ]
  },
  {
   "cell_type": "markdown",
   "id": "78675559-ec97-4dec-ac3e-f56248a25937",
   "metadata": {},
   "source": [
    "Additional information about classes is available at the [official Python documentation](https://docs.python.org/3/tutorial/classes.html)."
   ]
  },
  {
   "cell_type": "markdown",
   "id": "640452ac-7e81-44f3-ac84-99c22de584b6",
   "metadata": {},
   "source": [
    "### Coroutines\n",
    "\n",
    "Coroutines are a feature in Python that allows you to write asynchronous code in a more readable and manageable way. A couroutine can be suspended and resumed from the paused point for multiple times before the final termination. In this way, when multiple couroutines working together, they will be executed in an asynchronous manner and seemingly behave like concurrence. However, they are actually not, because Python's global interpreter lock (GIL) prevents multiple threads. Python's GIL will likely to be removed in the future, but this does not detract from the elegant nature of coroutines. Consider the following example"
   ]
  },
  {
   "cell_type": "code",
   "execution_count": null,
   "id": "d518ba5d-86da-4370-a0c6-e49e43fa2a65",
   "metadata": {},
   "outputs": [],
   "source": [
    "import asyncio\n",
    "\n",
    "# define a coroutine function\n",
    "async def Count():  \n",
    "    for i in range(5):\n",
    "        print(i+1)\n",
    "        # pause here for a while\n",
    "        await asyncio.sleep(0.5)  \n",
    "    return \"Count done\"\n",
    "\n",
    "# define another coroutine function\n",
    "async def Hello():  \n",
    "    for i in range(5):\n",
    "        print('Hello!')\n",
    "        # pause here for a while\n",
    "        await asyncio.sleep(0.5)\n",
    "    return \"Hello done\"\n",
    "\n",
    "# Run both coroutines on an event loop\n",
    "# asyncio.run(asyncio.gather(Count(), Hello()))\n",
    "# https://stackoverflow.com/questions/55409641/asyncio-run-cannot-be-called-from-a-running-event-loop-when-using-jupyter-no\n",
    "await asyncio.gather(Count(), Hello())"
   ]
  },
  {
   "cell_type": "markdown",
   "id": "33fb3dec-dbc0-43d5-a7e4-c5e8544a1704",
   "metadata": {},
   "source": [
    "There are two asynchronized function `Count()` and `Hello()` working together. From the output, they are seemingly executing simultaneously. When the program runs to `await asyncio.sleep(1)`, this function will be suspended, and other suspended functions will resume. That's why the outputs of these two functions are alternating. In modern Python (3.4+), we use the `async` keyword to define a coroutine (asynchronized function), and the `await` keyword for denoting the pause/resume point."
   ]
  },
  {
   "cell_type": "markdown",
   "id": "257dfd24-9ac2-4f6c-b962-1c0e3da745e2",
   "metadata": {},
   "source": [
    "Coroutines usually work with *generators* behaving like producers in Python. In the context of coroutines, generators can be leveraged as asynchronous generators, combining the benefits of both concepts. Asynchronous generators use the `yield` keyword within an asynchronous function to produce a sequence of values asynchronously, making them particularly useful for scenarios like fetching data from external sources, handling asynchronous I/O operations, and managing concurrent tasks. Then another coroutine(s) will consume the generated data and process them. Together, generators and coroutines provide a versatile and elegant approach to working with both synchronous and asynchronous data streams in Python. Below is an example."
   ]
  },
  {
   "cell_type": "code",
   "execution_count": null,
   "id": "52d4af20-2974-4bba-b34f-3f03a3b70080",
   "metadata": {},
   "outputs": [],
   "source": [
    "import asyncio\n",
    "\n",
    "async def async_data_generator():\n",
    "    for i in range(5):\n",
    "        # Simulate an asynchronous operation\n",
    "        await asyncio.sleep(0.5)\n",
    "        # Yield the current value asynchronously\n",
    "        yield i\n",
    "\n",
    "async def main():\n",
    "    # Iterate over values produced by the asynchronous generator\n",
    "    async for value in async_data_generator():\n",
    "        print(f\"Received value: {value}\")\n",
    "\n",
    "# Run the event loop to execute the asynchronous code\n",
    "# asyncio.run(main())\n",
    "await main()"
   ]
  },
  {
   "cell_type": "markdown",
   "id": "f41ecd3b-1e09-4ae7-914b-c7242624c67e",
   "metadata": {},
   "source": [
    "### Iterators\n",
    "\n",
    "An iterator is an object that can be iterated (looped) over in Python. It provides a way to access the elements of a iteratable object (e.g., `list`, `dict`). You can also define your own iterator applying your custom processing steps on data. For example,"
   ]
  },
  {
   "cell_type": "code",
   "execution_count": null,
   "id": "2742fb20-6941-4f0f-8b5e-4b6f9f0d67e2",
   "metadata": {},
   "outputs": [],
   "source": [
    "class MyIterable:\n",
    "    def __init__(self, year, height):\n",
    "        self.index = 0\n",
    "        self.year = year\n",
    "        self.height = height\n",
    "        assert len(self.year) == len(self.height)\n",
    "\n",
    "    def __iter__(self):\n",
    "        # make the class iterable\n",
    "        return self\n",
    "\n",
    "    def __next__(self):\n",
    "        # output a combination of year and height correspondingly\n",
    "        if self.index < len(self.year):\n",
    "            thisYear = self.year[self.index]\n",
    "            thisHeight = self.height[self.index]\n",
    "            self.index += 1\n",
    "            return thisYear, thisHeight\n",
    "        else:\n",
    "            raise StopIteration\n",
    "\n",
    "    def __len__(self):\n",
    "        return len(self.year)\n",
    "\n",
    "# Create an iterable object\n",
    "my_iterable = MyIterable([2000, 2001, 2002, 2003, 2004], [140, 145, 150, 155, 158])\n",
    "\n",
    "# Iterate over the elements using a for loop\n",
    "for element in my_iterable:\n",
    "    print(element)\n",
    "print(\"Length of iterable:\", len(my_iterable))\n",
    "# Access elements using indexing will fail, as MyIterable is not subscriptable.\n",
    "# print(\"First element:\", my_iterable[0])"
   ]
  },
  {
   "cell_type": "markdown",
   "id": "2697276f-61db-48a4-bcf9-81d483c2529d",
   "metadata": {},
   "source": [
    "You can modify `__next__()` inside your iterable class to modify the behavior for each iteration. This example here only simply iterates both lists together (zip-like). You can try to implement more advanced operations. Note that iterable objects are not always subscriptable. In the above example, `my_iterable[0]` will fail, as `__getitem__()` is not specified. Consider the following example:"
   ]
  },
  {
   "cell_type": "code",
   "execution_count": null,
   "id": "dc710332-3722-4704-99d0-e073183d09dd",
   "metadata": {},
   "outputs": [],
   "source": [
    "class MyIterable2:\n",
    "    def __init__(self, year, height):\n",
    "        self.index = 0\n",
    "        self.year = year\n",
    "        self.height = height\n",
    "        assert len(self.year) == len(self.height)\n",
    "\n",
    "    def __iter__(self):\n",
    "        # make the class iterable\n",
    "        return self\n",
    "\n",
    "    def __next__(self):\n",
    "        # output a combination of year and height correspondingly\n",
    "        if self.index < len(self.year):\n",
    "            thisYear = self.year[self.index]\n",
    "            thisHeight = self.height[self.index]\n",
    "            self.index += 1\n",
    "            return thisYear, thisHeight\n",
    "        else:\n",
    "            raise StopIteration\n",
    "\n",
    "    def __getitem__(self, index):\n",
    "        # make the class subscriptable\n",
    "        if index < len(self.year):\n",
    "            return self.year[index], self.height[index]\n",
    "        else:\n",
    "            raise Exception(\"Out of range\")\n",
    "        \n",
    "\n",
    "    def __len__(self):\n",
    "        return len(self.year)\n",
    "\n",
    "# Create an iterable object\n",
    "my_iterable = MyIterable2([2000, 2001, 2002, 2003, 2004], [140, 145, 150, 155, 158])\n",
    "\n",
    "print(\"First element:\", my_iterable[0])"
   ]
  },
  {
   "cell_type": "markdown",
   "id": "e58dff23-303f-4375-9b0d-18d8f7a658f0",
   "metadata": {},
   "source": [
    "By implementing `__getitem__()`, the class now is subscriptable. You can also define a subscriptable class that cannot be iterated. Iterators are highly potent, straightforward to implement, and can be tailored for feeding data into deep learning models during stochastic gradient descent, which will be elaborated in the subsequent scripts."
   ]
  },
  {
   "cell_type": "markdown",
   "id": "5831574a-bb34-4c13-aafe-ec9a098caead",
   "metadata": {},
   "source": [
    "You can also use `next()` to explicitly obtain the next item of the iterator."
   ]
  },
  {
   "cell_type": "code",
   "execution_count": null,
   "id": "e28c9dc2-de73-4b55-b1a8-c201fe2fcfc2",
   "metadata": {},
   "outputs": [],
   "source": [
    "for _ in range(3):\n",
    "    print(next(my_iterable))"
   ]
  },
  {
   "cell_type": "markdown",
   "id": "aaa721b7-d461-4d68-bcd0-f475f94cc8a5",
   "metadata": {},
   "source": [
    "### Tasks"
   ]
  },
  {
   "cell_type": "markdown",
   "id": "3d06b55f-2add-439d-8311-9fccc821b6ab",
   "metadata": {},
   "source": [
    "#### Task 1: A simple class for bank accounts\n",
    "\n",
    "Create a `BankAccount` class with attributes `account_number`, `account_holder`, and `balance`. Include methods for deposit, withdrawal, and displaying the account details."
   ]
  },
  {
   "cell_type": "code",
   "execution_count": null,
   "id": "1109a80b-9fa9-4eaf-bc92-f272b7b6dcd1",
   "metadata": {},
   "outputs": [],
   "source": [
    "class BankAccount:\n",
    "    pass\n",
    "    # your code below (do not forget to delete pass above)"
   ]
  },
  {
   "cell_type": "markdown",
   "id": "ad1dae77-9230-48d7-aeeb-b7778f7b1ce5",
   "metadata": {},
   "source": [
    "#### Task 2: Coroutine Chaining\n",
    "\n",
    "Write two coroutines: one generates a series of random numbers and another squares the generated number. Chain these coroutines to produce the squared results. Output the corresponding squared result once a number is generated."
   ]
  },
  {
   "cell_type": "code",
   "execution_count": null,
   "id": "f0647cf7-dd90-4b85-b67d-b523b3b969fd",
   "metadata": {},
   "outputs": [],
   "source": [
    "# Hint: using yield. Think of async. generator above\n",
    "# your code below"
   ]
  },
  {
   "cell_type": "markdown",
   "id": "50b6c632-7e8e-4da4-9cad-b0c8c62c1226",
   "metadata": {},
   "source": [
    "#### Task 3: Fibonacci Iterator\n",
    "\n",
    "Write an iterator class `FibonacciNumbers` that generates Fibonacci numbers. Implement the `__iter__()` and `__next__()` methods."
   ]
  },
  {
   "cell_type": "code",
   "execution_count": null,
   "id": "385287b4-a9c8-4a18-836b-57dfdfd6a5ed",
   "metadata": {},
   "outputs": [],
   "source": [
    "class FibonacciNumbers:\n",
    "    pass\n",
    "    # your code below (do not forget to delete pass above)"
   ]
  }
 ],
 "metadata": {
  "kernelspec": {
   "display_name": ".venv",
   "language": "python",
   "name": "python3"
  },
  "language_info": {
   "codemirror_mode": {
    "name": "ipython",
    "version": 3
   },
   "file_extension": ".py",
   "mimetype": "text/x-python",
   "name": "python",
   "nbconvert_exporter": "python",
   "pygments_lexer": "ipython3",
   "version": "3.10.12"
  }
 },
 "nbformat": 4,
 "nbformat_minor": 5
}
