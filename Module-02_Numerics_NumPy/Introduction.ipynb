{
 "cells": [
  {
   "cell_type": "markdown",
   "metadata": {},
   "source": [
    "# NumPy\n",
    "\n",
    "## Introduction\n",
    "\n",
    "NumPy (**Num**erical **Py**thon) is an open-source Python library that’s widely used in science and engineering[^1]. For example, you can use it to work with vectors, matrices, linear algebra, optimization and much more. This module gives an overview, but it is intended to be extended by readers with online resources for an in-depth understanding.\n",
    "\n",
    "[^1]: <https://numpy.org/devdocs/user/index.html>\n",
    "\n",
    "### Requirements\n",
    "\n",
    "This module requires a working Jupyter environment to actively execute the code blocks and solve small programming tasks and exercises. Basic understanding of Python and its syntax is practical.\n",
    "\n",
    "### Content Format\n",
    "\n",
    "The module is presented as a set of Jupyter notebooks that includes some exercised and tasks for self-learning.\n",
    "\n",
    "### Learning Objectives\n",
    "\n",
    "After this course you should have learned and be able to:\n",
    "\n",
    "- Run and edit a Jupyter notebook\n",
    "- Be familiar with NumPy concepts and syntax\n",
    "- Solve computational science problems in NumPy\n",
    "- Understand how to work with images in NumPy\n",
    "\n",
    "### Outline\n",
    "\n",
    "Part 1: Data model, ndarray creation, and manipulation\n",
    "\n",
    "Part 2: Indexing, slicing, broadcasting, and views\n",
    "\n",
    "Part 3: Statistics and linear algebra routines\n",
    "\n",
    "Part 4: Images as ndarrays"
   ]
  }
 ],
 "metadata": {
  "kernelspec": {
   "display_name": "Python 3 (ipykernel)",
   "language": "python",
   "name": "python3"
  },
  "language_info": {
   "codemirror_mode": {
    "name": "ipython",
    "version": 3
   },
   "file_extension": ".py",
   "mimetype": "text/x-python",
   "name": "python",
   "nbconvert_exporter": "python",
   "pygments_lexer": "ipython3",
   "version": "3.10.12"
  }
 },
 "nbformat": 4,
 "nbformat_minor": 4
}
