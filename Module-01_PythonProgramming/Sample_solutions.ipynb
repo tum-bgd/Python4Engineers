{
 "cells": [
  {
   "cell_type": "markdown",
   "id": "48527a87-aea8-40dd-a1bd-0a8b7f7804cc",
   "metadata": {},
   "source": [
    "## Part 1"
   ]
  },
  {
   "cell_type": "code",
   "execution_count": null,
   "id": "f41c6ad6-1d1a-410b-85df-badb7002a15b",
   "metadata": {},
   "outputs": [],
   "source": [
    "# A variable in python is created at the moment it is first assigned a value\n",
    "# Step 1:\n",
    "name = \"Martin\"\n",
    "# or\n",
    "name = 'Martin'"
   ]
  },
  {
   "cell_type": "code",
   "execution_count": null,
   "id": "17d35a2c-fb3a-4181-aacb-5fc7ac8763bb",
   "metadata": {},
   "outputs": [],
   "source": [
    "print(name)\n",
    "print(\"Name : %s\" % (name))"
   ]
  },
  {
   "cell_type": "code",
   "execution_count": null,
   "id": "a5aa65b3-ea17-4f4a-9afd-13353cb81892",
   "metadata": {},
   "outputs": [],
   "source": [
    "type(name) == str\n",
    "# better and more safe in the sense of that we don't really know what str is\n",
    "str(type(name)) == str(str)\n",
    "print(\"The type of name is %s\" % (str(type(name))))"
   ]
  },
  {
   "cell_type": "code",
   "execution_count": null,
   "id": "fbc28116-83ad-495c-8422-6b2223fb6017",
   "metadata": {},
   "outputs": [],
   "source": [
    "age = 39.3\n",
    "age_as_str = str(age)\n",
    "print(\"%s (%s)\" % (age_as_str, type(age_as_str)))"
   ]
  },
  {
   "cell_type": "code",
   "execution_count": null,
   "id": "cf44b54c-3a57-43c6-bf15-08948ef2928f",
   "metadata": {},
   "outputs": [],
   "source": [
    "print(type(age))\n",
    "print(type(age_as_str))"
   ]
  },
  {
   "cell_type": "markdown",
   "id": "f63781b5-bc92-4bed-b535-8e08969e5b68",
   "metadata": {},
   "source": [
    "## Part 2"
   ]
  },
  {
   "cell_type": "markdown",
   "id": "7fed2d2c-660f-4154-ba84-f9213be89c8f",
   "metadata": {},
   "source": [
    "### Task 1"
   ]
  },
  {
   "cell_type": "code",
   "execution_count": null,
   "id": "9b0ceccb-6e89-4b00-be00-817983a2905d",
   "metadata": {},
   "outputs": [],
   "source": [
    "a, b, c = 4, 6, 2\n",
    "x1 = (-b + (b**2 - 4 * a * c) ** 0.5) / (2 * a)\n",
    "x2 = (-b - (b**2 - 4 * a * c) ** 0.5) / (2 * a)\n",
    "x1, x2"
   ]
  },
  {
   "cell_type": "markdown",
   "id": "362d7dd8-f91f-4006-bed9-eb79ec6e840c",
   "metadata": {},
   "source": [
    "### Task 2"
   ]
  },
  {
   "cell_type": "code",
   "execution_count": null,
   "id": "4ec8ebf2-2f91-4a53-941c-7ab97ca93c17",
   "metadata": {},
   "outputs": [],
   "source": [
    "year = 1900\n",
    "(year % 4 == 0) and (not year % 100 == 0) or (year % 400 == 0)"
   ]
  },
  {
   "cell_type": "markdown",
   "id": "29dbe8c4-70fe-43f6-bf26-415f5ab7eca3",
   "metadata": {},
   "source": [
    "## Part 3"
   ]
  },
  {
   "cell_type": "markdown",
   "id": "bb0a95cc-43c3-43d5-afdf-923a9e69f306",
   "metadata": {},
   "source": [
    "### Task 1"
   ]
  },
  {
   "cell_type": "code",
   "execution_count": null,
   "id": "afb7f4d3-395b-482a-8c25-df392e2a1594",
   "metadata": {},
   "outputs": [],
   "source": [
    "age = 39\n",
    "# age=6\n",
    "if age >= 18:\n",
    "    print(\"You are allowed to drive!\")\n",
    "else:\n",
    "    print(\"You are too young to drive!\")"
   ]
  },
  {
   "cell_type": "markdown",
   "id": "0cd9e029-1353-4501-84fb-e6f71fbae830",
   "metadata": {},
   "source": [
    "### Task 2"
   ]
  },
  {
   "cell_type": "code",
   "execution_count": null,
   "id": "1fa86278-9422-41c1-8272-36b1b3d2abd4",
   "metadata": {},
   "outputs": [],
   "source": [
    "for age in range(26):\n",
    "    if age >= 18:\n",
    "        print(\"You are allowed to drive with an age of %d\" % (age))\n",
    "    else:\n",
    "        print(\"You are not allowed to drive with an age of %d\" % (age))"
   ]
  },
  {
   "cell_type": "markdown",
   "id": "142e8cad-b466-4829-b7c1-d2441346aa2a",
   "metadata": {},
   "source": [
    "## Part 4"
   ]
  },
  {
   "cell_type": "markdown",
   "id": "6c3acefb-3a21-4ec1-bf6b-48ac681312af",
   "metadata": {},
   "source": [
    "### Task 1"
   ]
  },
  {
   "cell_type": "code",
   "execution_count": null,
   "id": "d6f7b03b-b568-47b9-acaf-17fa8116991a",
   "metadata": {},
   "outputs": [],
   "source": [
    "a = [2, 5, 1, 5, 1, 7, 4, 2]\n",
    "b = [4, 6, 2, 1, 1, 1, 6, 7]\n",
    "c = []  # save the results\n",
    "for item in a:\n",
    "    if item not in c and item in b:\n",
    "        c.append(item)\n",
    "for item in c:\n",
    "    print(item, end=\" \")"
   ]
  },
  {
   "cell_type": "markdown",
   "id": "5c2b2051-655c-4da8-b16f-73ffc15425aa",
   "metadata": {},
   "source": [
    "### Task 2"
   ]
  },
  {
   "cell_type": "code",
   "execution_count": null,
   "id": "a2ddda96-bd85-494e-bdef-cbb87f4ee65e",
   "metadata": {},
   "outputs": [],
   "source": [
    "names = [\"Alice\", \"Bob\", \"Charlie\"]\n",
    "ages = [25, 30, 22]\n",
    "addresses = [\"123 Main Str.\", \"456 Oak Ave.\", \"789 Pine Rd.\"]\n",
    "\n",
    "res = {}\n",
    "for name, age, address in zip(names, ages, addresses):\n",
    "    res[(name, age)] = address\n",
    "for key, value in res.items():\n",
    "    print(key, value)"
   ]
  },
  {
   "cell_type": "markdown",
   "id": "9383d0d6-59e0-4fa2-a014-8908f1d986b1",
   "metadata": {},
   "source": [
    "### Task 3"
   ]
  },
  {
   "cell_type": "code",
   "execution_count": null,
   "id": "560201f6-4e42-4a1d-9670-e48f624db80e",
   "metadata": {},
   "outputs": [],
   "source": [
    "sample_text = \"This is a sample text. The text is a collection of words. Words make up the sentences.\"\n",
    "freqDict = {}\n",
    "for word in sample_text.split(\" \"):\n",
    "    word = word.strip(\".\").lower()\n",
    "    # Using get() to initialize the count to 0 if the word is not in the dictionary\n",
    "    freqDict[word] = freqDict.get(word, 0) + 1\n",
    "for key, value in freqDict.items():\n",
    "    print(f\"{key}: {value}\")"
   ]
  },
  {
   "cell_type": "markdown",
   "id": "7a838295-1225-478b-868b-7b8a23c9650b",
   "metadata": {},
   "source": [
    "### Task 4"
   ]
  },
  {
   "cell_type": "code",
   "execution_count": null,
   "id": "b2039cb6-d8e6-4ffe-afc9-c58dc952ec31",
   "metadata": {},
   "outputs": [],
   "source": [
    "a = [2, 5, 1, 5, 1, 7, 4, 2]\n",
    "b = [4, 6, 2, 1, 1, 1, 6, 7]\n",
    "print(set(a) & set(b))"
   ]
  },
  {
   "cell_type": "markdown",
   "id": "db71377b-06f4-4975-b3cc-7dd5010dbeb8",
   "metadata": {},
   "source": [
    "## Part 5"
   ]
  },
  {
   "cell_type": "markdown",
   "id": "a0ab4298-c13e-43ef-a0f3-e25936d8d134",
   "metadata": {},
   "source": [
    "### Task 1"
   ]
  },
  {
   "cell_type": "code",
   "execution_count": null,
   "id": "b2297f11-04bb-4c86-8a35-9219bf40a5f0",
   "metadata": {},
   "outputs": [],
   "source": [
    "def factorial(n):\n",
    "    if n == 1:\n",
    "        return 1\n",
    "    return n * factorial(n - 1)\n",
    "\n",
    "\n",
    "factorial(8)"
   ]
  },
  {
   "cell_type": "markdown",
   "id": "ac981475-c895-49a2-b6c9-c7472d74ca98",
   "metadata": {},
   "source": [
    "### Task 2"
   ]
  },
  {
   "cell_type": "code",
   "execution_count": null,
   "id": "bfa0c6b0-1b8c-4ffe-b45f-68ad817ad008",
   "metadata": {},
   "outputs": [],
   "source": [
    "import math\n",
    "\n",
    "a, b, c = 3, 0, 8\n",
    "try:\n",
    "    x1 = (-b + math.sqrt(b**2 - 4 * a * c)) / (2 * a)\n",
    "    x2 = (-b - math.sqrt(b**2 - 4 * a * c)) / (2 * a)\n",
    "except:\n",
    "    print(\"b^2-4ac < 0, no real number solutions\")"
   ]
  },
  {
   "cell_type": "markdown",
   "id": "22d5817a-efaa-4c58-99de-52ce8c2568f5",
   "metadata": {},
   "source": [
    "## Part 6"
   ]
  },
  {
   "cell_type": "markdown",
   "id": "e513af58-bbb8-42c8-a22a-c08cdc114408",
   "metadata": {},
   "source": [
    "### Task 1"
   ]
  },
  {
   "cell_type": "code",
   "execution_count": null,
   "id": "5a930bd1-f3e7-40e7-ba05-5fcae3d3236c",
   "metadata": {},
   "outputs": [],
   "source": [
    "class BankAccount:\n",
    "    def __init__(self, account_number, account_holder, balance=0):\n",
    "        self.account_number = account_number\n",
    "        self.account_holder = account_holder\n",
    "        self.balance = balance\n",
    "\n",
    "    def deposit(self, amount):\n",
    "        if amount > 0:\n",
    "            self.balance += amount\n",
    "            print(f\"Deposited ${amount}. New balance: ${self.balance}\")\n",
    "        else:\n",
    "            print(\"Invalid deposit amount. Please deposit a positive amount.\")\n",
    "\n",
    "    def withdraw(self, amount):\n",
    "        if amount > 0 and amount <= self.balance:\n",
    "            self.balance -= amount\n",
    "            print(f\"Withdrew ${amount}. New balance: ${self.balance}\")\n",
    "        elif amount <= 0:\n",
    "            print(\"Invalid withdrawal amount. Please withdraw a positive amount.\")\n",
    "        else:\n",
    "            print(\"Insufficient funds. Withdrawal not allowed.\")\n",
    "\n",
    "    def display_details(self):\n",
    "        print(f\"Account Number: {self.account_number}\")\n",
    "        print(f\"Account Holder: {self.account_holder}\")\n",
    "        print(f\"Balance: ${self.balance}\")\n",
    "\n",
    "\n",
    "# Example usage:\n",
    "account1 = BankAccount(\"123456\", \"John Doe\", 1000)\n",
    "account1.display_details()\n",
    "\n",
    "account1.deposit(500)\n",
    "account1.withdraw(200)\n",
    "account1.display_details()"
   ]
  },
  {
   "cell_type": "markdown",
   "id": "dd7f7b35-38b7-4ccd-a06b-355a7902a7d0",
   "metadata": {},
   "source": [
    "### Task 2"
   ]
  },
  {
   "cell_type": "code",
   "execution_count": null,
   "id": "049e747d-492c-42d3-bda9-94584228e355",
   "metadata": {},
   "outputs": [],
   "source": [
    "import asyncio\n",
    "import random\n",
    "\n",
    "\n",
    "async def async_data_generator():\n",
    "    for i in range(5):\n",
    "        # Simulate an asynchronous operation\n",
    "        await asyncio.sleep(0.5)\n",
    "        # Yield the current value asynchronously\n",
    "        yield random.random() * 100\n",
    "\n",
    "\n",
    "async def main():\n",
    "    # Iterate over values produced by the asynchronous generator\n",
    "    async for value in async_data_generator():\n",
    "        print(f\"received: {value}, squared: {value**2}\")\n",
    "\n",
    "\n",
    "# Run the event loop to execute the asynchronous code\n",
    "# asyncio.run(main())\n",
    "await main()"
   ]
  },
  {
   "cell_type": "markdown",
   "id": "7eec84f2-d9a3-4958-85d3-9c4bb31c32b1",
   "metadata": {},
   "source": [
    "### Task 3"
   ]
  },
  {
   "cell_type": "code",
   "execution_count": null,
   "id": "7862666a-acc6-41a7-9411-a26431a4a3f3",
   "metadata": {},
   "outputs": [],
   "source": [
    "class FibonacciNumbers:\n",
    "    def __init__(self):\n",
    "        self.prev, self.curr = 0, 1\n",
    "\n",
    "    def __iter__(self):\n",
    "        return self\n",
    "\n",
    "    def __next__(self):\n",
    "        result = self.prev\n",
    "        self.prev, self.curr = self.curr, self.prev + self.curr\n",
    "        return result\n",
    "\n",
    "\n",
    "# Test the FibonacciNumbers iterator\n",
    "fibonacci_iterator = FibonacciNumbers()\n",
    "\n",
    "# Print the first 10 Fibonacci numbers\n",
    "for _ in range(10):\n",
    "    print(next(fibonacci_iterator))"
   ]
  }
 ],
 "metadata": {
  "kernelspec": {
   "display_name": "Python 3 (ipykernel)",
   "language": "python",
   "name": "python3"
  },
  "language_info": {
   "codemirror_mode": {
    "name": "ipython",
    "version": 3
   },
   "file_extension": ".py",
   "mimetype": "text/x-python",
   "name": "python",
   "nbconvert_exporter": "python",
   "pygments_lexer": "ipython3",
   "version": "3.8.6"
  }
 },
 "nbformat": 4,
 "nbformat_minor": 5
}
