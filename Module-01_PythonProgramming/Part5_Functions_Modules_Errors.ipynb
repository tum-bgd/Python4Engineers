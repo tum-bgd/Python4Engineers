{
 "cells": [
  {
   "cell_type": "markdown",
   "id": "4906e94e-f294-467a-a5fb-f03089514c62",
   "metadata": {},
   "source": [
    "# Python Programming\n",
    "\n",
    "In this course, you will learn basic programming skills in Python.\n",
    "\n",
    "## Part 5: Functions, modules and error handling\n",
    "\n",
    "Topics in this part include\n",
    "\n",
    "- functions\n",
    "- modules\n",
    "- error handling"
   ]
  },
  {
   "cell_type": "markdown",
   "id": "f854499c-f66a-4524-bacc-d4d9cc1a73f7",
   "metadata": {},
   "source": [
    "### Functions\n",
    "\n",
    "A function is a piece of code that can be used/called multiple times. A function is declared with the keyword `def`, followed by the functions name and the parameters in parentheses. It is followed by a colon and the function body. Functions can have a varying number of parameters (including zero parameters) which can be used for whatever computation in the body of the function. In the following cell, a function is defined and then used two times."
   ]
  },
  {
   "cell_type": "code",
   "execution_count": null,
   "id": "2a5398b7-b29c-4c72-87a8-25cf15754356",
   "metadata": {},
   "outputs": [],
   "source": [
    "# ---------------DEFINITION OF say()--------------\n",
    "\n",
    "\n",
    "# definition of a function with one parameter\n",
    "def say(text):\n",
    "    print(text)  # calling print()\n",
    "\n",
    "\n",
    "# ------------------USAGE OF say()----------------\n",
    "\n",
    "say(\"hello\")  # calling say()\n",
    "say(\"world\")  # calling say() again with a different argument"
   ]
  },
  {
   "cell_type": "markdown",
   "id": "6753e158-ab26-4420-9fc4-9bc5f1bd6436",
   "metadata": {},
   "source": [
    "In general, functions are used to take some arguments, do some computation with them and then return a value. Functions are used when some code are re-used, or for readability enhancement. The following function takes two arguments and returns the absolute distance of them. We declare, which value should be returned with the keyword `return` followed by the variable name."
   ]
  },
  {
   "cell_type": "code",
   "execution_count": null,
   "id": "5773ebfc-8ba1-4a6b-bc20-f63d21eebc51",
   "metadata": {},
   "outputs": [],
   "source": [
    "# ---------------DEFINITION--------------\n",
    "\n",
    "\n",
    "# definition of a function with two parameters\n",
    "def distance(x, y):\n",
    "    # abs() is a python built-in function that returns the absolute value\n",
    "    dist = abs(x - y)\n",
    "    return dist  # return the value of 'dist'\n",
    "\n",
    "\n",
    "# ------------------USAGE----------------\n",
    "\n",
    "a = -1.5\n",
    "b = 12.7\n",
    "# calling distance() with arguments a and b. The result is assigned to c\n",
    "c = distance(a, b)\n",
    "print(c)"
   ]
  },
  {
   "cell_type": "markdown",
   "id": "93f4b540-c433-4f74-9eae-489bef910a0a",
   "metadata": {},
   "source": [
    "You may wonder what the function `say()` returned, because we did not use return at all. By default any function will return the special value `None`. The following implementations are equivalent to the previous say() function. All of them return `None`."
   ]
  },
  {
   "cell_type": "code",
   "execution_count": null,
   "id": "6f922e07-f627-4c08-a917-fd0416f823d9",
   "metadata": {},
   "outputs": [],
   "source": [
    "# first implementation, no return statement\n",
    "def say1(text):\n",
    "    print(text)\n",
    "\n",
    "\n",
    "# 2nd implementation, return without value\n",
    "def say2(text):\n",
    "    print(text)\n",
    "    return\n",
    "\n",
    "\n",
    "# 3rd implementation, explicitly returning None\n",
    "def say3(text):\n",
    "    print(text)\n",
    "    return None\n",
    "\n",
    "\n",
    "# storing the return values of all functions\n",
    "r1, r2, r3 = say1(\"1\"), say(\"2\"), say(\"3\")\n",
    "\n",
    "print(r1, r2, r3)"
   ]
  },
  {
   "cell_type": "markdown",
   "id": "80f60fec-b4b1-41c9-8b92-ab8f1e649d0f",
   "metadata": {},
   "source": [
    "#### Multiple return types\n",
    "\n",
    "Functions can return multiple elements by implicitly using tuples (here one usually doesn’t use the parentheses to declare tuples)."
   ]
  },
  {
   "cell_type": "code",
   "execution_count": null,
   "id": "4247c4b0-e62f-4d36-9a45-450370e2b0ac",
   "metadata": {},
   "outputs": [],
   "source": [
    "def divide_euclidian(dividend, divisor):\n",
    "    quotient = dividend // divisor\n",
    "    remainder = dividend % divisor\n",
    "    return quotient, remainder  # same as: return (quotient, remainder)\n",
    "\n",
    "\n",
    "q, r = divide_euclidian(15, 7)  # same as: (q, r) = divide_euclidian(15,7)\n",
    "print(\"15 / 7 = {} R: {}\".format(q, r))"
   ]
  },
  {
   "cell_type": "markdown",
   "id": "ebba4a56-7c83-4539-a431-354f34fd8b36",
   "metadata": {},
   "source": [
    "**Info**: Python already offers this function:"
   ]
  },
  {
   "cell_type": "code",
   "execution_count": null,
   "id": "73246d7d-5826-40eb-8d5b-c0a1cd42458c",
   "metadata": {},
   "outputs": [],
   "source": [
    "q, r = divmod(15, 7)\n",
    "print(\"15 / 7 = {} R: {}\".format(q, r))"
   ]
  },
  {
   "cell_type": "markdown",
   "id": "d4dee471-d4aa-4468-ac00-ed259b400985",
   "metadata": {},
   "source": [
    "#### Keyword parameters\n",
    "\n",
    "Functions can have optional keyword parameters. These keyword parameters are always the last (rightmost) parameters of all. They are declared by a following equal sign and the default value. The following function has one obligatory and one optional parameters. In this example the optional parameter is used as a so called ‘flag’ (like an on-off switch). In general keyword arguments can have any type."
   ]
  },
  {
   "cell_type": "code",
   "execution_count": null,
   "id": "3bdb375e-5c4d-45ae-a184-fd1fc937eee8",
   "metadata": {},
   "outputs": [],
   "source": [
    "# optional keyword parameter (here a bool)\n",
    "def square(a, verbose=False):\n",
    "    if verbose:\n",
    "        print(\"square({}) was called!\".format(a))\n",
    "    return a**2\n",
    "\n",
    "\n",
    "sq1 = square(1)  # nothing will be printed\n",
    "sq2 = square(2, verbose=True)  # will print the message"
   ]
  },
  {
   "cell_type": "markdown",
   "id": "c8a422cd-ae39-4de0-b491-c4b5089e299b",
   "metadata": {},
   "source": [
    "#### Build-in functions\n",
    "\n",
    "Python provides many built-in functions. Some essential functions are used in the next cell. A complete list is available at [programiz.com](https://www.programiz.com/python-programming/methods/built-in). Note that different Python versions may provide more/less built-in functions."
   ]
  },
  {
   "cell_type": "code",
   "execution_count": null,
   "id": "5dd4b57a-688f-4676-bfba-6f4f708fe431",
   "metadata": {},
   "outputs": [],
   "source": [
    "# max(a, b, ..) returns the biggest value\n",
    "print(\"max(1, 9, -5) =\", max(1, 9, -5))\n",
    "# min(a, b, ..) returns the smallest value\n",
    "print(\"min(-3, 3, 0) =\", min(-3, 3, 0))\n",
    "# abs(x) returns the absolute value\n",
    "print(\"abs(-2)       =\", abs(-2))"
   ]
  },
  {
   "cell_type": "markdown",
   "id": "9822a755-f704-42fa-a80b-7315b0977af3",
   "metadata": {},
   "source": [
    "**Note** that there are built-in functions like `del()` which are Python keywords and others like `max()`, which are no keywords. Unlike keyword built-ins, the **non-keyword built-ins can be overwritten**! This is demonstrated in the following cell:"
   ]
  },
  {
   "cell_type": "code",
   "execution_count": null,
   "id": "75d59ba0-5499-4311-922a-69f01b1c1eb6",
   "metadata": {},
   "outputs": [],
   "source": [
    "# Example, that built-ins can be overwritten!\n",
    "\n",
    "print(\"max:        \", max)\n",
    "print(\"type of max:\", type(max))\n",
    "print(\"max(1,2):   \", max(1, 2))\n",
    "# del(max)                             # ERROR (name 'max' is not defined)\n",
    "\n",
    "print(\"\\noverwriting max!\\n\")\n",
    "max = 12345\n",
    "\n",
    "print(\"max:        \", max)\n",
    "print(\"type of max:\", type(max))\n",
    "# print('max(1,2):   ', max(1,2))      # ERROR ('int' object is not callable)\n",
    "del max"
   ]
  },
  {
   "cell_type": "markdown",
   "id": "3bafbba5-325b-42b0-90bd-6d405d85979d",
   "metadata": {},
   "source": [
    "### Modules\n",
    "\n",
    "In general, a single function or several functions are not sufficient to fulfill a relatively big goal, such as supporting all operations for linear algebra, image processing, etc., which usually require a large number of functions organized in a **module** working together. Putting a set of functions for a similar goal into a module also makes the code more organized and easier to understand. Similar to functions, there are also built-in modules. For example, we can additionally import modules like the `math` module to have access to the functionalities of that module. We can use the `dir()` function to list the available functionalities."
   ]
  },
  {
   "cell_type": "code",
   "execution_count": null,
   "id": "50e6aeae-8b04-4671-a68b-5f3692c72f7e",
   "metadata": {},
   "outputs": [],
   "source": [
    "# import the math module to use its features\n",
    "import math\n",
    "\n",
    "# list functionalities of a module\n",
    "dir(math)"
   ]
  },
  {
   "cell_type": "markdown",
   "id": "a8c6ccb4-e8d5-4d00-96e3-992ac10ef4b8",
   "metadata": {},
   "source": [
    "At this point we will introduce another helpful IPython feature. We can append a question mark to any module, variable, function or class, to show additional information and the documentation about it (alternatively click on a function press `SHIFT`+`TAB`)."
   ]
  },
  {
   "cell_type": "code",
   "execution_count": null,
   "id": "7e9d72dd-94bf-47bc-8037-904ab66b3f12",
   "metadata": {},
   "outputs": [],
   "source": [
    "math.log10?"
   ]
  },
  {
   "cell_type": "code",
   "execution_count": null,
   "id": "b6ebe630-76c9-405a-9a9e-ad11f57fd38d",
   "metadata": {},
   "outputs": [],
   "source": [
    "math.pi?"
   ]
  },
  {
   "cell_type": "markdown",
   "id": "a9e7bfe5-b5d1-41dd-990e-a81986511863",
   "metadata": {},
   "source": [
    "To access / use a functionality we use the dot-operator (a dot between the module name and the function / variable)."
   ]
  },
  {
   "cell_type": "code",
   "execution_count": null,
   "id": "24191e27-00d3-45dd-b524-af02f57261ac",
   "metadata": {},
   "outputs": [],
   "source": [
    "# logarithm with base 10\n",
    "x = math.log10(10000)\n",
    "print(x)\n",
    "\n",
    "# the constant pi\n",
    "p = math.pi\n",
    "print(p)\n",
    "\n",
    "# trigonometric functions like cosinus, etc.\n",
    "y = math.cos(2 * math.pi)\n",
    "print(y)"
   ]
  },
  {
   "cell_type": "markdown",
   "id": "da35d4f0-df3a-4b86-8461-ad733bf4eed9",
   "metadata": {},
   "source": [
    "You are also free to organize your own modules. Find more related information [here](https://docs.python.org/3/tutorial/modules.html#modules). It will be beneficial when your projects share a similar workflow, which means you can use the well-organized module you defined and reuse the functions everywhere you need."
   ]
  },
  {
   "cell_type": "markdown",
   "id": "731d6ec0-d58a-4bcb-9361-c289cc67536c",
   "metadata": {},
   "source": [
    "### Error handling\n",
    "\n",
    "Utilizing a proper way to handle possible errors in your code makes your program more stable in production. It will be also helpful for you to find the problems inside your code."
   ]
  },
  {
   "cell_type": "markdown",
   "id": "a47ffd08-987c-4b05-8b34-df1e25de67ff",
   "metadata": {},
   "source": [
    "#### Assertions\n",
    "\n",
    "Assertions are a nice way to prevent unexpected behavior of code. Let's consider an example function that divides two numbers. The division is only valid, if the divisor is not zero. So in our code we can simply make the assertion that this is not the case and add a reason to document this. The syntax for assertions is \n",
    "\n",
    "```python\n",
    "assert statement, \"Message(optional)\" \n",
    "```\n",
    "\n",
    "where the `statement` is a variable or expression, that can be evaluated to a single boolean value.\n",
    "The division example could be implemented like this:"
   ]
  },
  {
   "cell_type": "code",
   "execution_count": null,
   "id": "3e6404d6-32a5-4c10-82a5-943b9489ee45",
   "metadata": {},
   "outputs": [],
   "source": [
    "def divide(dividend, divisor):\n",
    "    assert divisor != 0, \"Division by zero not valid!\"\n",
    "    return dividend / divisor"
   ]
  },
  {
   "cell_type": "markdown",
   "id": "2ff2a94c-db28-4b95-a70a-a840ad981e91",
   "metadata": {},
   "source": [
    "Let us now try to call that function with an invalid divisor:"
   ]
  },
  {
   "cell_type": "code",
   "execution_count": null,
   "id": "99742582-d2aa-4024-bffa-c5e25a750481",
   "metadata": {},
   "outputs": [],
   "source": [
    "# result = divide(1, 0)"
   ]
  },
  {
   "cell_type": "markdown",
   "id": "1042e3e0-d62d-49a1-9c34-ae1c4cbbdd51",
   "metadata": {},
   "source": [
    "This will raise an `AssertionError` with our message, so we directly know what we did wrong. Maybe this is not the best example, because without the assertion the call would raise a `ZeroDivisionError`, which is also pretty obvious, but the general idea should be clear.\n",
    "Hence, as you can see here, assertion is usually used when you are clear what kinds of errors may happen in your code. Now the problem is how to deal with unexpected ones.rs"
   ]
  },
  {
   "cell_type": "markdown",
   "id": "231dc858-a633-40bc-9966-538a87cd7463",
   "metadata": {},
   "source": [
    "#### Common errors\n",
    "\n",
    "This chapter provides some code examples that raise different errors. Understanding the reasons for these errors might help you debugging your first programs! There are much more error types, than the ones listed below. If you are confronted with an unknown error, you may take a look at [this documentation](https://docs.python.org/3/library/exceptions.html) or simply Google for it."
   ]
  },
  {
   "cell_type": "markdown",
   "id": "37ea50bb-c77f-4c4f-9386-fbf86f44d01e",
   "metadata": {},
   "source": [
    "##### Syntax error"
   ]
  },
  {
   "cell_type": "code",
   "execution_count": null,
   "id": "14073d29-0a47-4275-9f5d-67bb0fa9c04c",
   "metadata": {},
   "outputs": [],
   "source": [
    "# y =                      # incomplete statement"
   ]
  },
  {
   "cell_type": "code",
   "execution_count": null,
   "id": "548cb281-3c70-45f9-be4b-138e9a068930",
   "metadata": {},
   "outputs": [],
   "source": [
    "# x = (1+2) * ((3+5)/3))   # additional parentheses"
   ]
  },
  {
   "cell_type": "code",
   "execution_count": null,
   "id": "8b2310b3-dfe0-46b8-8be2-e614141172fa",
   "metadata": {},
   "outputs": [],
   "source": [
    "# x = (1+2) * ((3+5)/3     # missing parentheses"
   ]
  },
  {
   "cell_type": "markdown",
   "id": "56e4d2ab-76ce-45e2-9452-8248a35736cd",
   "metadata": {},
   "source": [
    "##### IndentationError"
   ]
  },
  {
   "cell_type": "code",
   "execution_count": null,
   "id": "a8af4bfc-7a16-4308-9eb7-50988049625d",
   "metadata": {},
   "outputs": [],
   "source": [
    "# if True:\n",
    "# x = 1                    # missing indentation"
   ]
  },
  {
   "cell_type": "code",
   "execution_count": null,
   "id": "4f9499e5-2d65-40ae-9202-4379c5d6a640",
   "metadata": {},
   "outputs": [],
   "source": [
    "# a = 1\n",
    "#  b = 2                   # invalid indentation"
   ]
  },
  {
   "cell_type": "markdown",
   "id": "06be2530-0591-4723-94b2-2cb228debe46",
   "metadata": {},
   "source": [
    "##### Type error"
   ]
  },
  {
   "cell_type": "code",
   "execution_count": null,
   "id": "f03e3a71-ff6c-4ec6-95f2-7832bc341645",
   "metadata": {},
   "outputs": [],
   "source": [
    "# abs()                    # calling abs() with no arguments (one argument required)"
   ]
  },
  {
   "cell_type": "code",
   "execution_count": null,
   "id": "fa1cdc6b-8701-43d5-bfe0-7d3ad579bfa1",
   "metadata": {},
   "outputs": [],
   "source": [
    "# a,b = abs(1)             # trying to assign the result of abs() to a tuple (only one return value)"
   ]
  },
  {
   "cell_type": "code",
   "execution_count": null,
   "id": "7253f42e-8b19-4f58-96dd-75375a87b4ad",
   "metadata": {},
   "outputs": [],
   "source": [
    "# a = 1\n",
    "# a[0]                     # trying to access first element of integer (non sequence object)"
   ]
  },
  {
   "cell_type": "code",
   "execution_count": null,
   "id": "92841f6f-2379-4b54-8be3-1a3a0803b2a2",
   "metadata": {},
   "outputs": [],
   "source": [
    "# a = 1\n",
    "# a()                      # parentheses indicate that a() is a method, but it is not"
   ]
  },
  {
   "cell_type": "markdown",
   "id": "984fb102-f29a-4717-86c8-ac7e0e623eda",
   "metadata": {},
   "source": [
    "##### Value error"
   ]
  },
  {
   "cell_type": "code",
   "execution_count": null,
   "id": "9e1cfeeb-6014-4d8c-a360-ff1168408de9",
   "metadata": {},
   "outputs": [],
   "source": [
    "# int('1.5')               # string cannot be converted to int"
   ]
  },
  {
   "cell_type": "markdown",
   "id": "732c879f-40b3-44a3-a5ed-633ee78f9ad7",
   "metadata": {},
   "source": [
    "#### Catching errors\n",
    "\n",
    "Programs (or functions) that cause errors are not always *wrong*. E.g. imagine a program that tries to download some content from the Internet. The connection could be interrupted which could result in an unavoidable error. In that case it would be necessary to have a program that expects and such errors. In Python this is done via the `try`-`catch`-`finally` blocks. This is a good way to make your code run smoothly without acccidential termination by errors."
   ]
  },
  {
   "cell_type": "code",
   "execution_count": null,
   "id": "083f266e-1480-46f0-a864-83fb96f75b7a",
   "metadata": {},
   "outputs": [],
   "source": [
    "try:\n",
    "    # the try block contains statements that may raise an error\n",
    "    int(\"1.0\")\n",
    "    a = 1 / 0\n",
    "except ValueError:\n",
    "    # if the declared error occurs, the statements in the except block are executed\n",
    "    print(\"conv. failed\")\n",
    "except ZeroDivisionError:\n",
    "    # multiple different errors can be excepted\n",
    "    print(\"division by 0\")\n",
    "finally:\n",
    "    # the finally block (optional) contains statements, that are ALWAYS executed after the try-excepts\n",
    "    print(\"don't care!\")"
   ]
  },
  {
   "cell_type": "markdown",
   "id": "73bf4970-39d5-40cb-b5a6-0417b8663a65",
   "metadata": {},
   "source": [
    "### Tasks"
   ]
  },
  {
   "cell_type": "markdown",
   "id": "96aad275-e334-4290-9705-bc211b7d4c3c",
   "metadata": {},
   "source": [
    "**Task 1**: Implement a recursive function `factorial(n)` to calculate the factorial of a given non-negative integer $n$."
   ]
  },
  {
   "cell_type": "code",
   "execution_count": null,
   "id": "d4f094c1-10f7-48ab-b2eb-450b941ec9eb",
   "metadata": {},
   "outputs": [],
   "source": [
    "def factorial(n):\n",
    "    return\n",
    "\n",
    "\n",
    "factorial(8)\n",
    "# expected output: 40320\n",
    "# your code here"
   ]
  },
  {
   "cell_type": "markdown",
   "id": "c3965970-adb1-466a-aced-5d673f53f4c7",
   "metadata": {},
   "source": [
    "**Task 2**: Implement a reliable quadratic equation solver using error handling, i.e., using `try-except` syntax to deal with `ValueError` when $b^2-4ac<0$ for `math.sqrt()`. You may do this by printing a warning to the user."
   ]
  },
  {
   "cell_type": "code",
   "execution_count": null,
   "id": "32dbdbc5-79bd-47e4-afa9-ecc303d0af05",
   "metadata": {},
   "outputs": [],
   "source": [
    "import math\n",
    "\n",
    "a, b, c = 3, 0, 8\n",
    "# your code here"
   ]
  }
 ],
 "metadata": {
  "kernelspec": {
   "display_name": ".venv",
   "language": "python",
   "name": "python3"
  },
  "language_info": {
   "codemirror_mode": {
    "name": "ipython",
    "version": 3
   },
   "file_extension": ".py",
   "mimetype": "text/x-python",
   "name": "python",
   "nbconvert_exporter": "python",
   "pygments_lexer": "ipython3",
   "version": "3.10.12"
  }
 },
 "nbformat": 4,
 "nbformat_minor": 5
}
