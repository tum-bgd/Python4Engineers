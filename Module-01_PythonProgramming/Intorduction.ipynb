{
 "cells": [
  {
   "cell_type": "markdown",
   "metadata": {},
   "source": [
    "# Python Programming\n",
    "\n",
    "## Introduction\n",
    "\n",
    "This module is intended to give an introduction to the Python programming language. It focuses on giving a brief overview of basic language concepts to enable the audience to use it to solve computational tasks and problems. It is not considered a comprehensive coverage of the language.\n",
    "\n",
    "### Prerequisites\n",
    "\n",
    "This module requires a working Jupyter environment to actively execute the code blocks and solve small programming tasks and exercises.\n",
    "\n",
    "### Content Format\n",
    "\n",
    "The module is presented as a set of Jupyter notebooks that includes some exercises and tasks for self-learning.\n",
    "\n",
    "### Learning Objectives\n",
    "\n",
    "After this module, you should have learned and be able to:\n",
    "\n",
    "- run and edit a Jupyter notebook\n",
    "- be familiar with Python syntax\n",
    "- write and execute mathematical expressions\n",
    "- handle conditional code execution\n",
    "- apply control flow with loops\n",
    "- know collection data types and how to use them\n",
    "- understand how to use functions to structure your program\n",
    "\n",
    "### Outline\n",
    "\n",
    "Part 1: Interpreters, variables and primitive data types\n",
    "\n",
    "Part 2: Operators\n",
    "\n",
    "Part 3: Control flow\n",
    "\n",
    "Part 4: Collection data types\n",
    "\n",
    "Part 5: Functions, modules, and error handling\n",
    "\n",
    "Part 6: Advanced patterns (classes, coroutines, iterators)\n"
   ]
  }
 ],
 "metadata": {
  "kernelspec": {
   "display_name": ".venv",
   "language": "python",
   "name": "python3"
  },
  "language_info": {
   "codemirror_mode": {
    "name": "ipython",
    "version": 3
   },
   "file_extension": ".py",
   "mimetype": "text/x-python",
   "name": "python",
   "nbconvert_exporter": "python",
   "pygments_lexer": "ipython3",
   "version": "3.10.12"
  }
 },
 "nbformat": 4,
 "nbformat_minor": 4
}
