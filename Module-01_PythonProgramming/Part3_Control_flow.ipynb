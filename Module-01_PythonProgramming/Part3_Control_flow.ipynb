{
 "cells": [
  {
   "cell_type": "markdown",
   "id": "92a3d523-d034-4ee1-911d-bcf8beb914a4",
   "metadata": {},
   "source": [
    "# Python Programming\n",
    "\n",
    "In this course, you will learn basic programming skills in Python.\n",
    "\n",
    "## Part 3: Control flow - conditionals and loops\n",
    "\n",
    "Topics in this sheet include\n",
    "\n",
    "- conditionals\n",
    "- loops"
   ]
  },
  {
   "cell_type": "markdown",
   "id": "e92e5b7d-4169-41e9-b345-aa5bb473a56a",
   "metadata": {},
   "source": [
    "### Decision\n",
    "\n",
    "Conditional execution is an essential part of programs. They are used to control the computation flow of the program. The keywords used for conditions are `if`, `elif` and `else`."
   ]
  },
  {
   "cell_type": "markdown",
   "id": "2303b78f-7c6b-471f-9d5d-076c5c04b963",
   "metadata": {},
   "source": [
    "#### Single Condition\n",
    "\n",
    "The most simple usage is the if statement, followed by a condition and a colon. The conditional statements follow in a **block**. The statements inside the block are only executed, when the condition is (evaluated to) `True`. The most significant difference between Python and other languages is the **mandatory indentation of blocks**. Blocks are grouped statements (e.g. used in loops, conditions or functions). The following cell will demonstrate the indentation syntax. `if` introduces a block. Usually the indentation size is four spaces. Most IDEs (also the Jupyter server) will convert tabs to spaces so we can use tabs as well. \n",
    "A simple indentation rule is: Whenever a statement ends with a colon, (at least) the next non-blank line has to be indented."
   ]
  },
  {
   "cell_type": "code",
   "execution_count": null,
   "id": "562e4af3-55e3-47ba-adc0-75a25c9acf7c",
   "metadata": {},
   "outputs": [],
   "source": [
    "condition = True\n",
    "if condition:\n",
    "    print(\"condition is True!\")\n",
    "    print(\"still inside block!\")\n",
    "print(\"outside block!\")"
   ]
  },
  {
   "cell_type": "code",
   "execution_count": null,
   "id": "57014920-ef12-4929-ba18-c768bff0beb3",
   "metadata": {},
   "outputs": [],
   "source": [
    "condition = False\n",
    "if condition:\n",
    "    print(\"Inside\")\n",
    "    print(\"This statement will not be executed\")\n",
    "print(\"Outside block!\")"
   ]
  },
  {
   "cell_type": "markdown",
   "id": "51cf431d-d411-4bb6-861d-4b7937bf6cf5",
   "metadata": {},
   "source": [
    "We can also use `if`-`else` together. `else` will introduce another block."
   ]
  },
  {
   "cell_type": "code",
   "execution_count": null,
   "id": "0f8eabd3-241f-4482-9617-2479d5b4ab98",
   "metadata": {},
   "outputs": [],
   "source": [
    "x = 6\n",
    "if x > 5:  # statement will be evaluated to a boolean value\n",
    "    print(\"x is greater than 5!\")\n",
    "else:\n",
    "    print(\"x is smaller/equal to 5!\")"
   ]
  },
  {
   "cell_type": "markdown",
   "id": "0da358e1-3ccd-4ef3-b207-a6b01b34ba5e",
   "metadata": {},
   "source": [
    "#### Complex condition\n",
    "\n",
    "All kind of blocks can be nested. For example the condition in the example above can be separated. The result of the conditional expressions can be stored to improve readability."
   ]
  },
  {
   "cell_type": "code",
   "execution_count": null,
   "id": "afdf6fcf-cf2b-4c39-bd6d-ef1e40e80882",
   "metadata": {},
   "outputs": [],
   "source": [
    "x = 7\n",
    "\n",
    "is_greater_5 = x > 5\n",
    "is_odd = x % 2 == 1\n",
    "\n",
    "if is_greater_5:\n",
    "    print(\"x is greater than 5\", end=\" \")\n",
    "    if is_odd:\n",
    "        print(\"and odd!\")\n",
    "    else:\n",
    "        print(\"and even!\")\n",
    "else:\n",
    "    print(\"x is smaller/equal to 5!\")"
   ]
  },
  {
   "cell_type": "markdown",
   "id": "60d0d306-3da1-4de7-aac5-e4ac5c2e7205",
   "metadata": {},
   "source": [
    "More complex structures can be built with the elif (short for else if) and else keywords. The conditions are checked, top-down untill one condition is True. If no condition is True, the else-block is executed (if it exists). The following cell demonstrates the usage."
   ]
  },
  {
   "cell_type": "code",
   "execution_count": null,
   "id": "8fe8c969-c0c0-4346-8958-902aaaea0359",
   "metadata": {},
   "outputs": [],
   "source": [
    "cond1 = False  # some boolean variables used as conditions\n",
    "cond2 = True\n",
    "cond3 = False\n",
    "\n",
    "if cond1:\n",
    "    print(\"cond1 is True\")\n",
    "elif cond2:\n",
    "    # will be checked if first condition is False\n",
    "    print(\"cond2 is True, cond1 is False\")\n",
    "elif cond3:\n",
    "    # will be checked if 1st and 2nd condition are False\n",
    "    print(\"cond3 is True , cond1 is False, cond2 is False\")\n",
    "else:\n",
    "    print(\"no condition is True\")"
   ]
  },
  {
   "cell_type": "markdown",
   "id": "629b812e-67eb-48b4-a754-e2d4cb0d9e54",
   "metadata": {},
   "source": [
    "Note that only one branch will be executed, although following conditions are true."
   ]
  },
  {
   "cell_type": "code",
   "execution_count": null,
   "id": "de362001-6202-4c18-b281-beb4d879dea5",
   "metadata": {},
   "outputs": [],
   "source": [
    "cond1 = True\n",
    "cond2 = True\n",
    "cond3 = True\n",
    "\n",
    "if cond1:\n",
    "    print(\"cond1 is True\")\n",
    "elif cond2:\n",
    "    # not triggered\n",
    "    print(\"cond2 is True, cond1 is False\")\n",
    "elif cond3:\n",
    "    # not triggered\n",
    "    print(\"cond3 is True , cond1 is False, cond2 is False\")\n",
    "else:\n",
    "    # not triggered\n",
    "    print(\"no condition is True\")"
   ]
  },
  {
   "cell_type": "markdown",
   "id": "05dee916-095a-4143-b351-bd6e4b8ab59a",
   "metadata": {},
   "source": [
    "### Loops\n",
    "\n",
    "A loop means doing somthing repeatly."
   ]
  },
  {
   "cell_type": "markdown",
   "id": "f9c9a02f-0780-42f8-ab16-acc79f281eda",
   "metadata": {},
   "source": [
    "#### `while` loop\n",
    "\n",
    "The most simple loop is the while loop. The syntax is:\n",
    "\n",
    "```python\n",
    "while cond:\n",
    "    inside loop\n",
    "    still inside loop\n",
    "outside the loop\n",
    "```\n",
    "\n",
    "where `cond` is a condition. The loop will repeat until the condition is evaluated to `False`. The following example runs a while-loop until there are no more elements in the list `L`. In each iteration the first element of `L` is removed."
   ]
  },
  {
   "cell_type": "code",
   "execution_count": null,
   "id": "b256466c-ea5f-4a5e-b4f3-a930997e13a8",
   "metadata": {},
   "outputs": [],
   "source": [
    "i = 10\n",
    "\n",
    "# as long as i >= 5, the indent part will be executed repeatly.\n",
    "while i >= 5:\n",
    "    print(i)\n",
    "    i -= 1  # i will decrese 1 in every loop"
   ]
  },
  {
   "cell_type": "markdown",
   "id": "c4b0d998-3989-485e-9373-a95188475ab5",
   "metadata": {},
   "source": [
    "After the sixth iteration, `i = 4`, the condition `i >= 5` is no longer satisfied. So the `while` loop ends here."
   ]
  },
  {
   "cell_type": "markdown",
   "id": "8956b2cd-ebb0-4f5f-b6d8-d60199d137e1",
   "metadata": {},
   "source": [
    "#### `for` loop\n",
    "\n",
    "Python offers a very simple for-in syntax to iterate over each element in a collections like a list, a tuple or a set:\n",
    "\n",
    "```python\n",
    "for a in B:\n",
    "    inside loop\n",
    "    still inside loop\n",
    "outside the loop\n",
    "```\n",
    "\n",
    "Here `B` is an iterative sequence and `a` the variable that will take the values of the elements in `B`. The indented lines after the colon are executed in every loop. In the next cell we will use a for loop to iterate over the elements in a sequence generated by `range()`:"
   ]
  },
  {
   "cell_type": "code",
   "execution_count": null,
   "id": "09bc6f70-1149-42da-ba41-8b447fa8e249",
   "metadata": {},
   "outputs": [],
   "source": [
    "# range(3) creates the sequence: 0, 1, 2\n",
    "for i in range(3):\n",
    "    print(\"inside the loop..\")\n",
    "    print(\"i =\", i)\n",
    "print(\"done\")"
   ]
  },
  {
   "cell_type": "markdown",
   "id": "ffb8575e-fdea-4076-a3ee-7b195a1586f1",
   "metadata": {},
   "source": [
    "If `range(x)` is called with only one argument, the loop will start at 0 and incrementing up to x (not included) with a stepwith of 1. More general, one can call `range()` with up to three arguments, which denote the start, stop and step with of the sequence. Two arguments denote start and stop (step width will be 1)."
   ]
  },
  {
   "cell_type": "code",
   "execution_count": null,
   "id": "b53ffb70-3b71-43d4-be4a-23652dae38cf",
   "metadata": {},
   "outputs": [],
   "source": [
    "start = 1\n",
    "stop = 6\n",
    "step = 2\n",
    "for j in range(start, stop, step):\n",
    "    print(j)"
   ]
  },
  {
   "cell_type": "markdown",
   "id": "717ac7d7-7983-402a-8ef1-e435d296d29b",
   "metadata": {},
   "source": [
    "#### `break` and `continue`\n",
    "\n",
    "When using loops, there are two essential keywords: `break` and `continue`.\n",
    "\n",
    "- `break`: immediately step out of the loop\n",
    "- `continue`: immediately start the next iteration\n",
    "\n",
    "The following cells will demonstrate the usage of these keywords."
   ]
  },
  {
   "cell_type": "code",
   "execution_count": null,
   "id": "1064e1e6-0db1-40e2-969d-f191d4433b15",
   "metadata": {},
   "outputs": [],
   "source": [
    "# i will have the values [0,1,...,9]\n",
    "for i in range(10):\n",
    "    # if i is even..\n",
    "    if i % 2 == 0:\n",
    "        # ..jump to the next iteration\n",
    "        continue\n",
    "    print(i)  # print the current value of i"
   ]
  },
  {
   "cell_type": "markdown",
   "id": "70bdbae8",
   "metadata": {},
   "source": [
    "As you can see from the output, only the odd numbers are printed. In case the the number is even we continue with the next itertion and the print statement is not executed."
   ]
  },
  {
   "cell_type": "code",
   "execution_count": null,
   "id": "803f78d3-c418-4865-946e-06c93c661eb5",
   "metadata": {},
   "outputs": [],
   "source": [
    "# i will have the values [0,1,...,9]\n",
    "for i in range(10):\n",
    "    # if i is odd..\n",
    "    if i % 2 == 1:\n",
    "        # terminate this iteration\n",
    "        break\n",
    "    print(i)  # print the current value of i"
   ]
  },
  {
   "cell_type": "markdown",
   "id": "907c8d77-11d1-442e-aafc-083f8db328cf",
   "metadata": {},
   "source": [
    "0 is an even number, thus 0 is printed out. In the next iteration, i is even and we `break` which terminates the `for` loop and no further numbers are printed out."
   ]
  },
  {
   "cell_type": "markdown",
   "id": "d1cfbf1e",
   "metadata": {},
   "source": [
    "### Tasks\n",
    "\n",
    "**Task 1**: Write a program that prints whether you are allowed to drive or not. We assume that the one can drive from the age of 18. Given an age assigned to the variable `age`, use conditionals to print out `can drive` if the age is greater or equal to 18 and otherwise `not allowed to drive`. Try different values for age to evaluate your program."
   ]
  },
  {
   "cell_type": "code",
   "execution_count": null,
   "id": "97284f5d-a97f-4430-92ca-1362e80e678d",
   "metadata": {},
   "outputs": [],
   "source": [
    "# your code here"
   ]
  },
  {
   "cell_type": "markdown",
   "id": "d7d42793-589f-49ae-8f8d-9294883c9b9c",
   "metadata": {},
   "source": [
    "**Task 2**: Write a `for` loop which iterates over all ages from 0 to 25 and print out for each the age and whether a person that age can drive or not. Also write the same program with a `while` loop."
   ]
  },
  {
   "cell_type": "code",
   "execution_count": null,
   "id": "ad128e1b-0c81-4114-a21d-9c22094c61fa",
   "metadata": {},
   "outputs": [],
   "source": [
    "# your code here"
   ]
  }
 ],
 "metadata": {
  "kernelspec": {
   "display_name": ".venv",
   "language": "python",
   "name": "python3"
  },
  "language_info": {
   "codemirror_mode": {
    "name": "ipython",
    "version": 3
   },
   "file_extension": ".py",
   "mimetype": "text/x-python",
   "name": "python",
   "nbconvert_exporter": "python",
   "pygments_lexer": "ipython3",
   "version": "3.10.12"
  }
 },
 "nbformat": 4,
 "nbformat_minor": 5
}
