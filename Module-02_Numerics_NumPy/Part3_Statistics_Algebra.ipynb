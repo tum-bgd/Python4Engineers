{
 "cells": [
  {
   "cell_type": "markdown",
   "id": "ad733c66",
   "metadata": {},
   "source": [
    "# NumPy\n",
    "\n",
    "This module introduces NumPy for scientific computing.\n",
    "\n",
    "## Part 3: Sorting, searching, statistics and linear algebra\n",
    "\n",
    "In this part you learn how to use NumPy for statistics and linear algebra."
   ]
  },
  {
   "cell_type": "markdown",
   "id": "09b6d0a8",
   "metadata": {},
   "source": [
    "### Sorting, searching and counting\n",
    "\n",
    "These operation are fundamental in computer science at large and scientific computing as well. Hence, NumPy provides specialized and optimized functions and routines. A comprehensive list can be found here: <https://numpy.org/doc/stable/reference/routines.sort.html>"
   ]
  },
  {
   "cell_type": "code",
   "execution_count": null,
   "id": "d4e4809d",
   "metadata": {},
   "outputs": [],
   "source": [
    "import numpy as np\n",
    "\n",
    "x = np.arange(6, 0, -1).reshape(2, 3)\n",
    "print(x)\n",
    "\n",
    "# sort elements along an axis\n",
    "print(np.sort(x))  # default axis is -1\n",
    "print(np.sort(x, axis=0))\n",
    "\n",
    "# get indeces that would sort an array\n",
    "print(np.argsort(x))\n",
    "\n",
    "\n",
    "# find the index of the minimum value\n",
    "print(np.argmin(x))  # default to index in flattended array\n",
    "print(np.argmin(x, axis=-1)) # get index along an axis, returns a 1 dimensional array\n",
    "print(np.argmin(x, axis=-1, keepdims=True)) # keep the dimensions of the input for the indices"
   ]
  },
  {
   "cell_type": "markdown",
   "id": "f338f246",
   "metadata": {},
   "source": [
    "As seen in the last example, many function names in NumPy have a version with an `arg` prefix. This indicates returning the result as indices, while the normal functions return values. This is useful in combination with advanced indexing and assignment patterns introduced in the previously.\n",
    "\n",
    "Another common parameter for many NumPy functions to be aware of is `axis`. It defines along which axis respective dimension of an ndarray a function is computed."
   ]
  },
  {
   "cell_type": "markdown",
   "id": "119c349c",
   "metadata": {},
   "source": [
    "### Statistics\n",
    "\n",
    "NumPy offers some descriptive statistics routines to calculate for example mean, percentiles, correlations and historgramms. For a more complete list see <https://numpy.org/doc/stable/reference/routines.statistics.html>\n"
   ]
  },
  {
   "cell_type": "code",
   "execution_count": null,
   "id": "71652a7e",
   "metadata": {},
   "outputs": [],
   "source": [
    "x = np.arange(9).reshape(3,3)\n",
    "print(x)\n",
    "\n",
    "# get the sum\n",
    "print(np.sum(x))\n",
    "\n",
    "# get the mean\n",
    "print(np.mean(x))\n",
    "\n",
    "# get the median of each row\n",
    "print(np.median(x, axis=0))\n",
    "\n",
    "# get the median of each column\n",
    "print(np.median(x, axis=1))\n",
    "\n",
    "a = np.random.rand(10)\n",
    "print(np.var(a))  # variance\n",
    "print(np.std(a))  # standard deviation"
   ]
  },
  {
   "cell_type": "markdown",
   "id": "e40322ce",
   "metadata": {},
   "source": [
    "### Linear Algebra - Matrix Multiplication\n",
    "\n",
    "Matrix multiplication is now easy. And many other linear algebra things, see <https://numpy.org/doc/stable/reference/routines.linalg.html>"
   ]
  },
  {
   "cell_type": "code",
   "execution_count": null,
   "id": "6b246bee",
   "metadata": {},
   "outputs": [],
   "source": [
    "x1 = np.array([1, 1])\n",
    "x2 = np.array([2, 2])\n",
    "\n",
    "# matrix multiplication\n",
    "y = np.matmul(x1, x2)  # same as `x1 @ x2`\n",
    "print(y)\n",
    "\n",
    "# dot product\n",
    "y2 = np.dot(x1, x2)\n",
    "print(y2)"
   ]
  },
  {
   "cell_type": "markdown",
   "id": "eb635637",
   "metadata": {},
   "source": [
    "### An Exmple\n",
    "\n",
    "Given some points in eucledian space, lets do a translation with an [affine transformation](https://en.wikipedia.org/wiki/Affine_transformation) and homogeneous coordinates, defined as follows: \n",
    "\n",
    "$$\n",
    "\\begin{bmatrix} x'\\\\ y'\\\\ 1 \\end{bmatrix} = \\begin{bmatrix} 1 & 0 & t_x \\\\ 0 & 1 & t_y \\\\ 0 & 0 & 0 \\end{bmatrix} \\begin{bmatrix} x \\\\ y\\\\ 1 \\end{bmatrix}\n",
    "$$\n",
    "\n",
    "where $t_x$ and $t_y$ are the offset along the x respectively y axis."
   ]
  },
  {
   "cell_type": "code",
   "execution_count": null,
   "id": "b2fc1dff",
   "metadata": {},
   "outputs": [],
   "source": [
    "import numpy as np\n",
    "\n",
    "# create some points\n",
    "points = np.array([[0, 0], [1, 1], [3, 4], [7, 6]], np.float64)\n",
    "print(\"input coordinates:\\n\", points)\n",
    "print(\"shape:\", points.shape)\n",
    "\n",
    "# define transformation\n",
    "affine = np.eye(3)  # identity\n",
    "affine[0, 2] = 10  # t_x = 10\n",
    "affine[1, 2] = -1  # t_y = -1\n",
    "print(\"affine:\\n\", affine)\n",
    "\n",
    "# make homogeneous\n",
    "homogeneous = np.hstack((points, np.ones(points.shape[0]).reshape(-1, 1)))\n",
    "print(\"homogeneous coordinates:\\n\", homogeneous)\n",
    "\n",
    "# transform\n",
    "transformed = np.matmul(affine, homogeneous.T).T\n",
    "print(\"transformed coordinates:\\n\", transformed)\n",
    "\n",
    "# drop last column\n",
    "print(\"result:\\n\", transformed[:, :-1])"
   ]
  }
 ],
 "metadata": {
  "kernelspec": {
   "display_name": "Python 3 (ipykernel)",
   "language": "python",
   "name": "python3"
  },
  "language_info": {
   "codemirror_mode": {
    "name": "ipython",
    "version": 3
   },
   "file_extension": ".py",
   "mimetype": "text/x-python",
   "name": "python",
   "nbconvert_exporter": "python",
   "pygments_lexer": "ipython3",
   "version": "3.10.12"
  }
 },
 "nbformat": 4,
 "nbformat_minor": 5
}
