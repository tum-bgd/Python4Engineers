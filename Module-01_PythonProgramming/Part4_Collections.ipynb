{
 "cells": [
  {
   "cell_type": "markdown",
   "id": "2db53695-d34c-4ed9-a535-c9e1ffc8dab0",
   "metadata": {},
   "source": [
    "# Python Programming\n",
    "\n",
    "In this course, you will learn basic programming skills in Python.\n",
    "\n",
    "## Part 4: Collection data types\n",
    "\n",
    "This part introduces collection data types such as `list`, `tuple`, `dict`, `set`. These data types are fundamental to solving many programming problems and to organizing data together with different structures and properties."
   ]
  },
  {
   "cell_type": "markdown",
   "id": "69a2b5c6-ac34-41e5-a872-924e1c92fb17",
   "metadata": {},
   "source": [
    "### List\n",
    "\n",
    "A `list` is a ordered collection of elements. The elements data types can vary. A list is created using **brackets**."
   ]
  },
  {
   "cell_type": "code",
   "execution_count": null,
   "id": "4b827b6c-34ac-4a8c-b73e-1a7cbf426ff3",
   "metadata": {},
   "outputs": [],
   "source": [
    "list1 = [1.0, \"name\", 15, True]\n",
    "\n",
    "print(\"Type:  \", type(list1))\n",
    "print(\"Values:\", list1)\n",
    "print(\"The list contents look like %s. Some more text\" % (str(list1)))"
   ]
  },
  {
   "cell_type": "markdown",
   "id": "abe84d3c-ff97-42a6-aea1-490a15942168",
   "metadata": {},
   "source": [
    "#### `list` - Indexing\n",
    "\n",
    "The elements of a list are accessed by typing the name of the variable, followed by the index in brackets. Note that **the first element has the index 0** which is usual for most programming languages but not MATLAB. Python supports negative indices, where -1 will give the last element of the list, -2 the second last and so on."
   ]
  },
  {
   "cell_type": "code",
   "execution_count": null,
   "id": "9c9cc017-d99f-4aa2-986e-537951fd29eb",
   "metadata": {},
   "outputs": [],
   "source": [
    "#     0    1    2    3    4    5    <- indices\n",
    "L = [\"a\", \"b\", \"c\", \"d\", \"e\", \"f\"]\n",
    "\n",
    "# access first element of L\n",
    "print(\"first: \", L[0])\n",
    "# access second element of L\n",
    "print(\"second:\", L[1])\n",
    "# access last element of L (in this case equiv. to L[5])\n",
    "print(\"last:  \", L[-1])"
   ]
  },
  {
   "cell_type": "markdown",
   "id": "db4df842-4ffc-46c7-829c-af9b5a883a78",
   "metadata": {},
   "source": [
    "Trying to access any element after the last one will raise an `IndexError`. \n",
    "For example our created list has currently 6 elements, so the last element has the index 5. Trying to access the element at index 6 will fail:"
   ]
  },
  {
   "cell_type": "code",
   "execution_count": null,
   "id": "594de345-7dff-48ff-aea5-c19a54c9c495",
   "metadata": {},
   "outputs": [],
   "source": [
    "# print(L[6])       # this would rise an IndexError"
   ]
  },
  {
   "cell_type": "markdown",
   "id": "c54b4d6e-db01-4b2b-8015-2c0c39d09cc3",
   "metadata": {},
   "source": [
    "Lists can be used together with for loops in the obvious way:"
   ]
  },
  {
   "cell_type": "code",
   "execution_count": null,
   "id": "8c2027a1-4310-4637-8aae-92a83ed10526",
   "metadata": {},
   "outputs": [],
   "source": [
    "L = [\"a\", \"b\", \"c\", \"d\", \"e\", \"f\"]\n",
    "for character in L:\n",
    "    print(\"The character is %s\" % (character))"
   ]
  },
  {
   "cell_type": "markdown",
   "id": "6de2d334-e9fe-416d-badc-54f03ba6d487",
   "metadata": {},
   "source": [
    "#### `list` - Slicing\n",
    "\n",
    "Python supports slicing, similar to MATLAB. Slicing means accessing a part of a list. The syntax is\n",
    "\n",
    "`List[start:end:step]`\n",
    "\n",
    "where `start` is the start of the slice (included), `end` the end of the slice (excluded) and `step` the step width in between. When `start` is omitted, the slice will start from the first element. Omitting `end` will make the slice end with the last element. Omitting `step` will result in a step width of 1."
   ]
  },
  {
   "cell_type": "code",
   "execution_count": null,
   "id": "968c7e53-4a2a-4b5e-b06b-47b5caf02cea",
   "metadata": {},
   "outputs": [],
   "source": [
    "#     0    1    2    3    4    5    <- indices\n",
    "L = [\"a\", \"b\", \"c\", \"d\", \"e\", \"f\"]\n",
    "\n",
    "# access elements from index 1 to 3\n",
    "print(L[1:3])\n",
    "# access all elements from 1 up to 5 with step width 2\n",
    "print(L[1:5:2])"
   ]
  },
  {
   "cell_type": "code",
   "execution_count": null,
   "id": "5e09051c-1099-493a-9226-dad9bfa96783",
   "metadata": {},
   "outputs": [],
   "source": [
    "# access all elements up to index 3\n",
    "print(L[:3])\n",
    "# access all elements from index 3\n",
    "print(L[3:])"
   ]
  },
  {
   "cell_type": "code",
   "execution_count": null,
   "id": "def136d3-214d-4764-ad33-f81fbb5d7706",
   "metadata": {},
   "outputs": [],
   "source": [
    "# access all elements (creates a copy of L)\n",
    "print(L[:])\n",
    "# access all elements with reversed order\n",
    "print(L[::-1])"
   ]
  },
  {
   "cell_type": "markdown",
   "id": "ae940234-0209-4b52-af06-5f2bcd36e0be",
   "metadata": {},
   "source": [
    "Indexing and slicing can be applied to strings."
   ]
  },
  {
   "cell_type": "code",
   "execution_count": null,
   "id": "bd3795dc-2c3f-4d72-a74e-ccd0dda8c199",
   "metadata": {},
   "outputs": [],
   "source": [
    "s = \"xyz\" * 5\n",
    "print(s)\n",
    "print(s[:5])\n",
    "print(s[-1])"
   ]
  },
  {
   "cell_type": "markdown",
   "id": "b73b5caa-17aa-47a9-bb2d-db9c1b62645b",
   "metadata": {},
   "source": [
    "#### `list` - Editing\n",
    "\n",
    "Editing means changing values of a list without changing its shape."
   ]
  },
  {
   "cell_type": "code",
   "execution_count": null,
   "id": "6bb0836a-10f4-495d-824b-d5323167483f",
   "metadata": {},
   "outputs": [],
   "source": [
    "list2 = [1, 1, 1, 1]\n",
    "print(list2)\n",
    "\n",
    "# assign a new value to the first element\n",
    "list2[0] = 0\n",
    "print(list2)\n",
    "\n",
    "# slices can be edited as well\n",
    "list2[2:4] = [2, 3]\n",
    "print(list2)"
   ]
  },
  {
   "cell_type": "markdown",
   "id": "baa3e060-a631-4c8a-8dfd-aa4126590de8",
   "metadata": {},
   "source": [
    "#### `list` - Manipulation\n",
    "\n",
    "A list can be manipulated using `append`, `extend`, `del` or `remove`."
   ]
  },
  {
   "cell_type": "code",
   "execution_count": null,
   "id": "29f725bc-6567-4580-b6a0-9abff2f12fe8",
   "metadata": {},
   "outputs": [],
   "source": [
    "# create an empty list\n",
    "list2 = []\n",
    "print(list2)\n",
    "\n",
    "# append one element\n",
    "list2.append(1)\n",
    "print(list2)\n",
    "\n",
    "# append a sequence\n",
    "list2.extend([2, 3, 4])\n",
    "print(list2)\n",
    "\n",
    "# insert 0 at index 2\n",
    "list2.insert(2, 0)\n",
    "print(list2)\n",
    "\n",
    "# remove the element at index 2\n",
    "del list2[2]\n",
    "print(list2)\n",
    "\n",
    "# remove the first element that is equal to the argument value\n",
    "# raises an error if the value is not in the list!\n",
    "list2.remove(1)\n",
    "print(list2)"
   ]
  },
  {
   "cell_type": "markdown",
   "id": "1fee7c3b-868b-441e-9e53-34ae6da410ff",
   "metadata": {},
   "source": [
    "#### `list` - Comprehension\n",
    "\n",
    "The following example demonstrates a powerful feature in Python which uses the for-in syntax called list comprehension. More information available [here](https://docs.python.org/3/tutorial/datastructures.html#list-comprehensions)."
   ]
  },
  {
   "cell_type": "code",
   "execution_count": null,
   "id": "50d51af6-cf6a-4c63-819f-f3366ca89142",
   "metadata": {},
   "outputs": [],
   "source": [
    "# 'for' inside brackets used to create a list\n",
    "lst_sq = [x**2 for x in range(1, 11)]\n",
    "print(lst_sq)"
   ]
  },
  {
   "cell_type": "code",
   "execution_count": null,
   "id": "ae3d204e-7ca7-4be7-8155-e6678d2e373e",
   "metadata": {},
   "outputs": [],
   "source": [
    "# A not too nice example of a nested list comprehension, beware, it is difficult to read\n",
    "\n",
    "L = range(100)\n",
    "\n",
    "[z for z in [y for y in [x for x in L if x > 1] if y % 2 == 1] if z % 5 == 0]\n",
    "# solve unreadability always with a comment\n",
    "# the most inner list exrpession computes numbers > 2\n",
    "# refined to numbers non-even\n",
    "# refined to numbers divisible by 5\n",
    "\n",
    "# Better: Unnest list comprehensions for better readability\n",
    "Q = [x for x in L if x > 1]  # all greater 1\n",
    "Q = [y for y in Q if y % 2 == 1]  # all non-even\n",
    "Q = [z for z in Q if z % 5 == 0]  # all divisble by 5\n",
    "print(Q)"
   ]
  },
  {
   "cell_type": "markdown",
   "id": "a9fa4a97-d7f0-4404-a315-cc8513b9ee83",
   "metadata": {},
   "source": [
    "#### `list` - Enumeration\n",
    "\n",
    "The `enumerate()` function is very helpful when iterating over sequences and keeping track of the index."
   ]
  },
  {
   "cell_type": "code",
   "execution_count": null,
   "id": "d66ebef4-1c96-47d8-ac9d-48a71e7d126c",
   "metadata": {},
   "outputs": [],
   "source": [
    "L = [\"a\", \"b\", \"c\"]\n",
    "for index, elem in enumerate(L):\n",
    "    print(\"Element {}: {}\".format(index, elem))"
   ]
  },
  {
   "cell_type": "markdown",
   "id": "930179d4-2381-46ff-8fe8-b134c000567b",
   "metadata": {},
   "source": [
    "In Python, you can use a single line to assign values to multiple variables using a list on the right-hand side of the assignment statement. This is often referred to as *multiple assignment* or *unpacking*. This syntax allows you to assign values to multiple variables in a concise and readable manner. Keep in mind that the number of variables on the left side must match the length of the iterable (list or tuple) on the right side. If there is a mismatch, a `ValueError` will be raised."
   ]
  },
  {
   "cell_type": "code",
   "execution_count": null,
   "id": "b5e46ce6-2c00-4390-aa5b-60612260d679",
   "metadata": {},
   "outputs": [],
   "source": [
    "a, b, c = [3, 5, 8]\n",
    "print(a)\n",
    "print(b)\n",
    "print(c)"
   ]
  },
  {
   "cell_type": "markdown",
   "id": "9a8dcd01-220b-421a-870e-a84bf54e2cc5",
   "metadata": {},
   "source": [
    "#### `list` - Looping over two lists\n",
    "\n",
    "When it is necessary to iterate over two lists simultaneously one can use the built-in `zip()` function. It takes multiple lists as arguments and creates a list-like object of touples, holding the corresponding elements of all lists. This is demonstrated in the next cell:"
   ]
  },
  {
   "cell_type": "code",
   "execution_count": null,
   "id": "51c86909-aaca-4cf1-a7d3-67168c9ac7f1",
   "metadata": {},
   "outputs": [],
   "source": [
    "L1 = [\"a\", \"b\", \"c\"]\n",
    "L2 = [1, 2, 3]\n",
    "L3 = [\"I\", \"II\", \"III\"]\n",
    "\n",
    "for x, y, z in zip(L1, L2, L3):\n",
    "    print(x, y, z)"
   ]
  },
  {
   "cell_type": "markdown",
   "id": "8b63f42d-4a3d-40ec-bba9-3f5545d35e41",
   "metadata": {},
   "source": [
    "#### `list` - Others\n",
    "\n",
    "The following cells should give an overview about the usage and capabilities of lists. In general it is better to learn what is possible first and then focus on the details (because the details can be quikly looked up)."
   ]
  },
  {
   "cell_type": "code",
   "execution_count": null,
   "id": "4f8296de-9aa0-4a13-848a-3ce81e07033a",
   "metadata": {},
   "outputs": [],
   "source": [
    "# repeats the given list 4 times\n",
    "L = [1, 2] * 4\n",
    "print(L)"
   ]
  },
  {
   "cell_type": "code",
   "execution_count": null,
   "id": "43e74f84-f3af-41b6-b73b-3408f2646eb8",
   "metadata": {},
   "outputs": [],
   "source": [
    "# the + operator can be used to concatenate lists\n",
    "L = [1, 2] + [3, 4] + [5, 6]\n",
    "print(L)"
   ]
  },
  {
   "cell_type": "code",
   "execution_count": null,
   "id": "4ec88d81-98f9-4f59-babd-8ccecfb62430",
   "metadata": {},
   "outputs": [],
   "source": [
    "L = [1, 2, 3]\n",
    "# reverse the elements in the list\n",
    "L.reverse()\n",
    "print(L)"
   ]
  },
  {
   "cell_type": "code",
   "execution_count": null,
   "id": "bf52e5c2-b1bb-42fc-8529-1e10e19b9f51",
   "metadata": {},
   "outputs": [],
   "source": [
    "L = [1, 2, 1, 3]\n",
    "# count occurences of a value\n",
    "n = L.count(1)\n",
    "print(n)"
   ]
  },
  {
   "cell_type": "code",
   "execution_count": null,
   "id": "4f8a7fb0-4c16-484b-a08d-caa091a9772b",
   "metadata": {},
   "outputs": [],
   "source": [
    "L = [\"a\", \"b\", \"c\"]\n",
    "# x in L returns true if x matches at least one element in L\n",
    "b = \"a\" in L\n",
    "print(b)"
   ]
  },
  {
   "cell_type": "code",
   "execution_count": null,
   "id": "b91b9743-4cd2-46e9-bbb5-ab74acd19aed",
   "metadata": {},
   "outputs": [],
   "source": [
    "L = [5, 8, 2, 6, 4, 2.5, 1]\n",
    "# sort list (only possible if values are comparable)\n",
    "L.sort()\n",
    "print(L)"
   ]
  },
  {
   "cell_type": "code",
   "execution_count": null,
   "id": "b8559c49-4c9b-4646-a0a4-556b42574761",
   "metadata": {},
   "outputs": [],
   "source": [
    "L = [5, 8, 2, 6, 4, 2.5, 1]\n",
    "# len(L) will return the number of elements in L\n",
    "print(\" length =\", len(L))\n",
    "# min(L) will return the minimum value in L\n",
    "print(\"minimum =\", min(L))\n",
    "# max(L) will return maximum value in L\n",
    "print(\"maximum =\", max(L))"
   ]
  },
  {
   "cell_type": "markdown",
   "id": "ea3db4a7-0724-4dc9-b237-bb06da9d1192",
   "metadata": {},
   "source": [
    "##### Excurse: Tricky list augmentation\n",
    "Although the following four implementations produce the same result, the first one is about 1000 times slower than the others. This is becouse of Python managing memory resources differently depending on the implementation. As a high level programming language, Python hides such low level details like memory allocation from the user to provide a simple interface. Nevertheless, when performance matters, one prefers to have more control and transparency over such low level deltails. System programming languages like C/C++ give you such control as well as vast increase in performance among others benefits and features. Tradeoffs are a cognitive overhead to deal with the increased complexity induced by more features, control and freedom."
   ]
  },
  {
   "cell_type": "code",
   "execution_count": null,
   "id": "fbbe6320-b770-4a58-9757-b8d5a93dd945",
   "metadata": {},
   "outputs": [],
   "source": [
    "L = [1, 2]\n",
    "\n",
    "L = L + [42]  # impl 1   VERY SLOW !!\n",
    "L += [42]  # impl 2\n",
    "L.append(42)  # impl 3\n",
    "L.extend([42])  # impl 4\n",
    "\n",
    "print(L)"
   ]
  },
  {
   "cell_type": "markdown",
   "id": "70646371-dbbd-4385-ba16-8ab5f7416af8",
   "metadata": {},
   "source": [
    "More information about lists available [here](https://docs.python.org/3/tutorial/datastructures.html%3E)."
   ]
  },
  {
   "cell_type": "markdown",
   "id": "5d0bfcf5-061f-4d3a-9b0f-6e1dab0c6866",
   "metadata": {},
   "source": [
    "### Tuple\n",
    "\n",
    "Tuples are very similar to lists with the essential difference, that they are **not mutable**. A tuple is created with the values in parentheses:"
   ]
  },
  {
   "cell_type": "code",
   "execution_count": null,
   "id": "769c6473-db94-43e4-9987-e82aea8ac645",
   "metadata": {},
   "outputs": [],
   "source": [
    "# creation of a tuple\n",
    "T = (False, 1.0, \"2\", 3)\n",
    "print(\"Type:  \", type(T))\n",
    "print(\"Values:\", T)"
   ]
  },
  {
   "cell_type": "markdown",
   "id": "e0a1f4f0-ea08-47c9-8023-492d44428fdc",
   "metadata": {},
   "source": [
    "Once a tuple is initialized, it is neither valid to change its values nor to add/remove elements. E.g. trying to assign a new value to the first element in `T` will raise a `TypeError`:"
   ]
  },
  {
   "cell_type": "code",
   "execution_count": null,
   "id": "dc81b363-d213-41a9-b882-b4bd0de15cfc",
   "metadata": {},
   "outputs": [],
   "source": [
    "# accessing elements is valid\n",
    "print(T[0])\n",
    "# T[0] = 1.0  # will raise a TypeError"
   ]
  },
  {
   "cell_type": "markdown",
   "id": "1ee844c4-95bf-4f9c-93d4-2fc785a122ac",
   "metadata": {},
   "source": [
    "Any list functionality does not modify the entries can also be applied to tuples. E.g.\n",
    "\n",
    "- indexing / slicing\n",
    "- the functions `max()` / `min()` / `len()`\n",
    "- the `in` operator.\n",
    "\n",
    "Note: In many cases the parentheses are not required to create a tuple, but it is best practice to **use perenthesis**. Nevertheless the following cell is valid."
   ]
  },
  {
   "cell_type": "code",
   "execution_count": null,
   "id": "80a37f33-5375-4da9-b1e2-cab80c287273",
   "metadata": {},
   "outputs": [],
   "source": [
    "# no parenthesis used to create the tuple\n",
    "T = False, 1.0, \"2\", 3\n",
    "print(T, type(T))\n",
    "print(\"Values:\", T)"
   ]
  },
  {
   "cell_type": "markdown",
   "id": "f64bd870-c51d-432a-9de4-5123a7a4eca9",
   "metadata": {},
   "source": [
    "More information about tuples is available [here](https://docs.python.org/3/tutorial/datastructures.html#tuples-and-sequences)."
   ]
  },
  {
   "cell_type": "markdown",
   "id": "78a09c64-891a-4014-bd45-a0621485ece7",
   "metadata": {},
   "source": [
    "### Dictionary\n",
    "\n",
    "A dictionary is basically a **list of key-value pairs** where every key is unique and points to exactly one value. Like with lists and tuples the data type of both the keys and the values can vary. A dictionary is constructed using **braces**. Inside the braces the keys and values are separated by a colon, the key-value pairs are separated by commas:"
   ]
  },
  {
   "cell_type": "code",
   "execution_count": null,
   "id": "671e8957-9626-47ef-a4f6-7e1d7116e791",
   "metadata": {},
   "outputs": [],
   "source": [
    "# a dictionary with 3 key-value pairs\n",
    "D = {\"a\": 1, \"b\": 2.0, 15: \"x\"}\n",
    "print(\"Type:  \", type(D))\n",
    "print(\"Values:\", D)"
   ]
  },
  {
   "cell_type": "markdown",
   "id": "097b0fa5-035b-4895-b729-22f6b7953199",
   "metadata": {},
   "source": [
    "The value for a specific key in a dictionary `D` is accessed using the syntax `D[k]`, where `k` is the key. An error will be raised if the key is not in the dictionary."
   ]
  },
  {
   "cell_type": "code",
   "execution_count": null,
   "id": "329ea61f-a9e2-4bbf-84d8-b83c18352964",
   "metadata": {},
   "outputs": [],
   "source": [
    "D = {\"a\": 1, \"b\": 2}\n",
    "\n",
    "# access the value that corresponds to the key 'b'\n",
    "value = D[\"b\"]\n",
    "print(\"Value by index lookup:\", value)\n",
    "\n",
    "# accessing the value by indexing if the key does not exists will throw and error\n",
    "# value = D[\"z\"]\n",
    "\n",
    "# accessing the value with `get` will insted return `None`\n",
    "maybe_value = D.get(\"z\")\n",
    "print(\"Value of missing key with `get`:\", maybe_value)\n",
    "\n",
    "# alternatively a default value can be specified for `get`\n",
    "value_or_default = D.get(\"z\", 99)\n",
    "print(\"Default value of missing key with `get`:\", value_or_default)"
   ]
  },
  {
   "cell_type": "markdown",
   "id": "805319c6-2cf8-4593-b303-c30d0d3d031c",
   "metadata": {},
   "source": [
    "Modifying values of existing keys and adding new key-value pairs works in the same way:"
   ]
  },
  {
   "cell_type": "code",
   "execution_count": null,
   "id": "f133441e-293b-4acd-9da3-dec741e5dc13",
   "metadata": {},
   "outputs": [],
   "source": [
    "D = {\"a\": 1, \"b\": 2}\n",
    "\n",
    "# add a new key 'c' with the value 3\n",
    "D[\"c\"] = 3\n",
    "print(D)\n",
    "\n",
    "# change the value of key 'c' to 5\n",
    "D[\"c\"] = 5\n",
    "print(D)"
   ]
  },
  {
   "cell_type": "markdown",
   "id": "a72533fe-d77c-450b-ad18-7e62e8cb2dfe",
   "metadata": {},
   "source": [
    "The `items()` method of dictionaries can be used to iterate over each key value pair. Alternatively it can be used to convert a dictionary to a list of tuples."
   ]
  },
  {
   "cell_type": "code",
   "execution_count": null,
   "id": "97202264-a58d-4697-8ad3-f9dd1befd94d",
   "metadata": {},
   "outputs": [],
   "source": [
    "print(D)\n",
    "D_as_list = list(D.items())\n",
    "print(D_as_list)"
   ]
  },
  {
   "cell_type": "markdown",
   "id": "6110ecde-4a81-4c5d-876e-364ae20385b8",
   "metadata": {},
   "source": [
    "We can also use `dict.keys()` method to traverse a `dict` variable."
   ]
  },
  {
   "cell_type": "code",
   "execution_count": null,
   "id": "e762afe2-8f95-4eb0-b684-b838dfc6a6f3",
   "metadata": {},
   "outputs": [],
   "source": [
    "D = {\"a\": 1, \"b\": 2.0, 15: \"x\"}  # a dictionary with 3 key-value pairs\n",
    "for key in D.keys():\n",
    "    print(key, D[key])"
   ]
  },
  {
   "cell_type": "markdown",
   "id": "5dbeb02c-4c21-4b3e-aabd-e3c69c0c5dd3",
   "metadata": {},
   "source": [
    "Alternatively, you can use `dict.items()` method to access each key-value pair within a dictionary."
   ]
  },
  {
   "cell_type": "code",
   "execution_count": null,
   "id": "649167c8-ce2c-4a4a-ac07-b67fe9cda697",
   "metadata": {},
   "outputs": [],
   "source": [
    "# Iterate over pairs (x,y in )\n",
    "for key, value in D.items():\n",
    "    print(key, value)"
   ]
  },
  {
   "cell_type": "markdown",
   "id": "7c4b13de-48fd-4493-9244-1eaae7ad4fef",
   "metadata": {},
   "source": [
    "More information about dictionaries available [here](https://docs.python.org/3/tutorial/datastructures.html#dictionaries)."
   ]
  },
  {
   "cell_type": "markdown",
   "id": "da0cab53-9016-4a41-9618-ae916a040a23",
   "metadata": {},
   "source": [
    "### Set\n",
    "\n",
    "A set contains **unique** elements in an **unordered** fashion (varying data types allowed). Unique means, that every element will not occur more than one time in the set. Adding a element to a set, that already contains such a element will not modify the set. Unordered means, that the elements in a set don’t have indices and though indexing or slicing is not possible. Sets are created similar to dictionarys but without colons:"
   ]
  },
  {
   "cell_type": "code",
   "execution_count": null,
   "id": "6c4b87c4-80c2-44ad-8500-a9d21ccb5cb9",
   "metadata": {},
   "outputs": [],
   "source": [
    "# the element 1 will only be once in S, because sets do not allow dublicate entries\n",
    "S = {1, 2, 3, 1}\n",
    "print(\"Type:  \", type(S))\n",
    "print(\"Values:\", S)"
   ]
  },
  {
   "cell_type": "markdown",
   "id": "566dc642-3bc4-482e-bdf9-2192d73e22c9",
   "metadata": {},
   "source": [
    "Albeit sets don’t support indexing, they allow some useful operations like computing the intersection, the union or the disjoints:"
   ]
  },
  {
   "cell_type": "code",
   "execution_count": null,
   "id": "a815e4c1-bb27-4184-b351-de74f825967a",
   "metadata": {},
   "outputs": [],
   "source": [
    "S1 = {\"a\", \"b\", \"d\", 1, 2, 4}\n",
    "\n",
    "# alternative constructor (same as casting a tuple to a set)\n",
    "S2 = set((1, 3, 4, \"a\", \"c\"))\n",
    "\n",
    "print(\"Elements in S1:               \", S1)\n",
    "print(\"Elements in S2:               \", S2)\n",
    "\n",
    "S_intersect = S1 & S2  # = S1.intersection(S2)\n",
    "print(\"Elements in S1 and S2:        \", S_intersect)\n",
    "\n",
    "S_union = S1 | S2  # = S1.union(S2)\n",
    "print(\"Elements in S1 or S2:         \", S_union)\n",
    "\n",
    "S_xor = S1 ^ S2  # = S1.difference(S2).union(S2.difference(S1)))\n",
    "print(\"El. in S1 or S2, not in both: \", S_xor)"
   ]
  },
  {
   "cell_type": "markdown",
   "id": "f5801bcd-5864-4832-9624-06a5235f0718",
   "metadata": {},
   "source": [
    "More information about sets is available [here](https://docs.python.org/3/tutorial/datastructures.html#sets)."
   ]
  },
  {
   "cell_type": "markdown",
   "id": "0c4056cc-fc2a-4191-ba99-1e76b6a0afa7",
   "metadata": {},
   "source": [
    "### Tasks\n",
    "\n",
    "There is one task for each kind of data type we learnt in this part."
   ]
  },
  {
   "cell_type": "markdown",
   "id": "78450da8-7acd-4695-a8bc-139df47e1d35",
   "metadata": {},
   "source": [
    "#### Task 1: List - intersection without duplicates\n",
    "\n",
    "For two lists `a` and `b`, print their intersection without duplicate elements."
   ]
  },
  {
   "cell_type": "code",
   "execution_count": null,
   "id": "3037344e-2290-42d1-aa22-21f8661198ea",
   "metadata": {},
   "outputs": [],
   "source": [
    "a = [2, 5, 1, 5, 1, 7, 4, 2]\n",
    "b = [4, 6, 2, 1, 1, 1, 6, 7]\n",
    "# expected output: 2 1 7 4\n",
    "# your code here"
   ]
  },
  {
   "cell_type": "markdown",
   "id": "83b5cc9c-d673-483e-a50c-70a0918e9304",
   "metadata": {},
   "source": [
    "#### Task 2: Tuple - tuple as dictionary keys\n",
    "\n",
    "Create a dictionary where the keys are tuples representing (name, age) pairs, and the values are corresponding addresses."
   ]
  },
  {
   "cell_type": "code",
   "execution_count": null,
   "id": "8ac1c233-3160-4880-b61f-d2900758a747",
   "metadata": {},
   "outputs": [],
   "source": [
    "names = [\"Alice\", \"Bob\", \"Charlie\"]\n",
    "ages = [25, 30, 22]\n",
    "addresses = [\"123 Main Str.\", \"456 Oak Ave.\", \"789 Pine Rd.\"]\n",
    "# expected output:\n",
    "# ('Alice', 25) 123 Main St\n",
    "# ('Bob', 30) 456 Oak Ave\n",
    "# ('Charlie', 22) 789 Pine Ln\n",
    "\n",
    "# your code here"
   ]
  },
  {
   "cell_type": "markdown",
   "id": "7834637a-a79a-4495-815d-0aafdb19b333",
   "metadata": {},
   "source": [
    "#### Task 3: Dict - word frequency counter\n",
    "\n",
    "Given a list of words, create a dictionary that maps each word to its frequency in the list."
   ]
  },
  {
   "cell_type": "code",
   "execution_count": null,
   "id": "a1607e20-3849-469f-a70f-f512e433d145",
   "metadata": {},
   "outputs": [],
   "source": [
    "sample_text = \"This is a sample text. The text is a collection of words. Words make up the sentences.\"\n",
    "# Hint1: use str.strip('punctuation') method to remove leading and trailing punctuation.\n",
    "# Hint2: use str.lower() to transform all letters into lower cases.\n",
    "# expected output:\n",
    "# this: 1\n",
    "# is: 2\n",
    "# a: 2\n",
    "# sample: 1\n",
    "# text: 2\n",
    "# the: 2\n",
    "# collection: 1\n",
    "# of: 1\n",
    "# words: 2\n",
    "# make: 1\n",
    "# up: 1\n",
    "# sentences: 1\n",
    "\n",
    "# your code here"
   ]
  },
  {
   "cell_type": "markdown",
   "id": "0c7e1870-ac47-43a6-be3d-3095dd3c4962",
   "metadata": {},
   "source": [
    "#### Task 4 - Set: re-do Task 1 using `set` methods\n",
    "\n",
    "Use `set` methods to do Task 1 again."
   ]
  },
  {
   "cell_type": "code",
   "execution_count": null,
   "id": "af21bae2-9d48-4ee9-9c38-a79c37e7b263",
   "metadata": {},
   "outputs": [],
   "source": [
    "# Hint: s1.intersection(S2) or s1 & s2\n",
    "a = [2, 5, 1, 5, 1, 7, 4, 2]\n",
    "b = [4, 6, 2, 1, 1, 1, 6, 7]\n",
    "# expected output: 2 1 7 4\n",
    "# your code here"
   ]
  }
 ],
 "metadata": {
  "kernelspec": {
   "display_name": ".venv",
   "language": "python",
   "name": "python3"
  },
  "language_info": {
   "codemirror_mode": {
    "name": "ipython",
    "version": 3
   },
   "file_extension": ".py",
   "mimetype": "text/x-python",
   "name": "python",
   "nbconvert_exporter": "python",
   "pygments_lexer": "ipython3",
   "version": "3.10.12"
  }
 },
 "nbformat": 4,
 "nbformat_minor": 5
}
