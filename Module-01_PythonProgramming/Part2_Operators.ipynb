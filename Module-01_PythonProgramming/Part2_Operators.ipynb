{
 "cells": [
  {
   "cell_type": "markdown",
   "id": "8e38210d-829e-4393-920a-39ef6316d469",
   "metadata": {},
   "source": [
    "# Python Programming\n",
    "\n",
    "In this course, you will learn basic programming skills in Python.\n",
    "\n",
    "## Part 2: Operators\n",
    "\n",
    "In this part we take a look at arithmetic, boolean and comparisons operators in Python."
   ]
  },
  {
   "cell_type": "markdown",
   "id": "6f745921-ef3c-439d-96e5-0f340ec91f4b",
   "metadata": {},
   "source": [
    "### Arithmetic Operations\n",
    "\n",
    "Arithmetic operators are most commonly used when working with mumeric types like integers, floats or complex. They can also be used in other context, like for example one can use `+` to concatenate two strings. Here are some examples."
   ]
  },
  {
   "cell_type": "code",
   "execution_count": null,
   "id": "e3422c76-78f1-48c6-878b-84f9c52d9a6d",
   "metadata": {},
   "outputs": [],
   "source": [
    "1 + 3  # addition"
   ]
  },
  {
   "cell_type": "code",
   "execution_count": null,
   "id": "b715d851-a4d1-4d90-996d-c273ed75f1bb",
   "metadata": {},
   "outputs": [],
   "source": [
    "3 - 1  # substraction"
   ]
  },
  {
   "cell_type": "code",
   "execution_count": null,
   "id": "faee32eb-01cc-48c5-b66b-431d4f2b3182",
   "metadata": {},
   "outputs": [],
   "source": [
    "2 * 4  # multiplication"
   ]
  },
  {
   "cell_type": "code",
   "execution_count": null,
   "id": "2945b672-4fc5-45ce-8591-28f08b64348e",
   "metadata": {},
   "outputs": [],
   "source": [
    "4 / 3  # division"
   ]
  },
  {
   "cell_type": "code",
   "execution_count": null,
   "id": "cf2bb786-8286-4696-a8e0-dcc6cd8fa2d9",
   "metadata": {},
   "outputs": [],
   "source": [
    "9 // 4  # floor division (returns the quotient of the euclidian devision)"
   ]
  },
  {
   "cell_type": "code",
   "execution_count": null,
   "id": "3848e17e-9c5b-47ed-b1da-227b90b89040",
   "metadata": {},
   "outputs": [],
   "source": [
    "9 % 4  # modulo (returns the remainder of the euclidian devision)"
   ]
  },
  {
   "cell_type": "code",
   "execution_count": null,
   "id": "3d868828-cc51-4288-81c6-fd60ec569fe8",
   "metadata": {},
   "outputs": [],
   "source": [
    "3**2  # exponentiation 3^2"
   ]
  },
  {
   "cell_type": "code",
   "execution_count": null,
   "id": "8dbf9878-0e17-4f71-94ba-d9550d2bf135",
   "metadata": {},
   "outputs": [],
   "source": [
    "9**0.5  # root using exponentiation"
   ]
  },
  {
   "cell_type": "markdown",
   "id": "f82334ea-e2af-4c9c-9e0a-45749e8e3d0f",
   "metadata": {},
   "source": [
    "You can always use parenthesis to specify the execution order like in maths. In programming `operator precedence` refers to the ranking of opperators which defines the evaluation order of an expression. Check out the official Python documentation for a comprehensive list of operators and their precedence: <https://docs.python.org/3/reference/expressions.html#operator-precedence>"
   ]
  },
  {
   "cell_type": "code",
   "execution_count": null,
   "id": "2cb630c6-3e0a-4c0d-8a13-eb6187a619c9",
   "metadata": {},
   "outputs": [],
   "source": [
    "print(2 * 3 + 4 * 5)\n",
    "print(2 * (3 + 4) * 5)\n",
    "##\n",
    "print(1 + 2 * 2**3)  # calculate exponents then multiplication then addition\n",
    "print(1 + (2 * 2) ** 3)  # calculate 2*2 first, then calculate 4^3, then plus 1"
   ]
  },
  {
   "cell_type": "markdown",
   "id": "0bc40f1d-be23-4f83-85f0-2c48728925f1",
   "metadata": {},
   "source": [
    "Note that the type of variables may implicitly change during arithmetic operations."
   ]
  },
  {
   "cell_type": "code",
   "execution_count": null,
   "id": "e8e6770f-77ff-4c36-a660-8affc9c06bb7",
   "metadata": {},
   "outputs": [],
   "source": [
    "a = 1\n",
    "print(a, type(a))\n",
    "b = 1.0\n",
    "a = a + b\n",
    "print(a, type(a))"
   ]
  },
  {
   "cell_type": "markdown",
   "id": "762ba198-af75-4a27-acd0-43c573b3ed61",
   "metadata": {},
   "source": [
    "If you only want to modify the value of a single variable, you can also use *operator assignment* syntax. For example"
   ]
  },
  {
   "cell_type": "code",
   "execution_count": null,
   "id": "026f4646-5295-4cf6-82b8-401b19e33ebf",
   "metadata": {},
   "outputs": [],
   "source": [
    "a = 1\n",
    "a += 1  # This is equivalent to a = a + 1\n",
    "a"
   ]
  },
  {
   "cell_type": "code",
   "execution_count": null,
   "id": "ea60d247-041d-4847-a973-b158372e9dbc",
   "metadata": {},
   "outputs": [],
   "source": [
    "b = 9\n",
    "b //= 4  # this syntax works with most operators\n",
    "b"
   ]
  },
  {
   "cell_type": "markdown",
   "id": "ae52439d-73e3-48ba-aa35-87e05a786b6d",
   "metadata": {},
   "source": [
    "### Boolean Operations\n",
    "\n",
    "Boolean operations are applied to booleans. The essential operations are and (`&`), or (`|`), xor (`^`) and `not`."
   ]
  },
  {
   "cell_type": "code",
   "execution_count": null,
   "id": "4613113c-56ce-4df4-9348-dc1f14585a9b",
   "metadata": {},
   "outputs": [],
   "source": [
    "b1 = True\n",
    "b2 = True\n",
    "\n",
    "# and (result is true, if both conditions are true)\n",
    "b3 = b1 and b2\n",
    "print(\"b1 and b2 = \", b3)\n",
    "\n",
    "# or (result is true, if at least one condition is true)\n",
    "b3 = b1 or b2\n",
    "print(\" b1 or b2 = \", b3)\n",
    "\n",
    "# xor (result is true, if exactly one condition is true)\n",
    "b3 = b1 ^ b2\n",
    "print(\"  b1 ^ b2 = \", b3)\n",
    "\n",
    "# not (will negate the boolean value)\n",
    "b3 = not b1\n",
    "print(\"   not b1 = \", b3)"
   ]
  },
  {
   "cell_type": "markdown",
   "id": "d35b53cf-1207-4d45-a104-803127880e28",
   "metadata": {},
   "source": [
    "You can apply arithmetic operations on `True` and `False`. They will be considered as 1 and 0, respectively. "
   ]
  },
  {
   "cell_type": "code",
   "execution_count": null,
   "id": "8ef065ca-b95e-44cc-951a-d5608c5b783c",
   "metadata": {},
   "outputs": [],
   "source": [
    "True**False"
   ]
  },
  {
   "cell_type": "markdown",
   "id": "2ff4fc86-a042-434b-8ec6-452d04b53453",
   "metadata": {},
   "source": [
    "### Comparisons\n",
    "\n",
    "Comparisons are operations that compare two values and return a boolean value."
   ]
  },
  {
   "cell_type": "code",
   "execution_count": null,
   "id": "3d608f87-1733-45b7-9e47-0fc9e2408718",
   "metadata": {},
   "outputs": [],
   "source": [
    "1 < 5  # 1 smaller, but not equal to five"
   ]
  },
  {
   "cell_type": "code",
   "execution_count": null,
   "id": "52af91b6-2499-4e78-9103-e51f60adc622",
   "metadata": {},
   "outputs": [],
   "source": [
    "1 <= 5  # greater >, smaller <, greater or equal >=, smaller or equal <="
   ]
  },
  {
   "cell_type": "code",
   "execution_count": null,
   "id": "73ee50fe-12d8-455b-af7e-a9d319306c84",
   "metadata": {},
   "outputs": [],
   "source": [
    "1 == 1.0  # equal. True here for Python. ALWAYS remember, there are TWO =."
   ]
  },
  {
   "cell_type": "markdown",
   "id": "0fd72863-a64e-4ee0-bff6-23e97ad09082",
   "metadata": {},
   "source": [
    "We can also apply comparison operations on non-numerial values. For example, for strings, it compares the ASCII code in turn. Find more information about ACSII code [here](https://www.cs.cmu.edu/~pattis/15-1XX/common/handouts/ascii.html)."
   ]
  },
  {
   "cell_type": "code",
   "execution_count": null,
   "id": "735b09e7-8570-47b8-989f-b35ea84aa1fb",
   "metadata": {},
   "outputs": [],
   "source": [
    "\"##\" < \"#$#\"  # because for the second char, # (35) < $ (36)"
   ]
  },
  {
   "cell_type": "code",
   "execution_count": null,
   "id": "d99e32e4-dfa6-4fa1-8d48-188cb17fa012",
   "metadata": {},
   "outputs": [],
   "source": [
    "# True equals 1 during comparison (False is 0 in this case)\n",
    "print(True > 0, True == 1, True == 2)"
   ]
  },
  {
   "cell_type": "code",
   "execution_count": null,
   "id": "e974356a-b932-40f0-a454-98bda5762bb1",
   "metadata": {},
   "outputs": [],
   "source": [
    "int(True)"
   ]
  },
  {
   "cell_type": "markdown",
   "id": "4f40cefb-ab22-4e2a-bd16-efd1e942eb76",
   "metadata": {},
   "source": [
    "### Tasks"
   ]
  },
  {
   "cell_type": "markdown",
   "id": "d3529b64-7301-4a35-9f08-9c4b2ffb3004",
   "metadata": {},
   "source": [
    "#### Task 1 Arithmetic operators\n",
    "\n",
    "Consider quadratic equations $ax^2+bx+c=0$. Write a program, given $a$, $b$ and $c$, calculate all possible solutions using the following quadratic formula. Save the value of $x$ in `x1` and `x2`. Surely when $b^2-4ac=0$, `x1` = `x2`. We only consider real numbers here.\n",
    "\n",
    "$$\n",
    "x = \\frac{-b \\pm \\sqrt{b^2-4ac}}{2a}\\ (a \\neq 0)\n",
    "$$"
   ]
  },
  {
   "cell_type": "code",
   "execution_count": null,
   "id": "c84d6d5e-ef8a-4365-9c4a-64925fdf9b37",
   "metadata": {},
   "outputs": [],
   "source": [
    "a, b, c = 4, 6, 2\n",
    "# x should be -1 or -0.5\n",
    "# your code here"
   ]
  },
  {
   "cell_type": "markdown",
   "id": "466d313e-8a2c-47d8-8bc0-f60996dcda5a",
   "metadata": {},
   "source": [
    "To make our code more stable, the program should consider the case when $b^2-4ac<0$ and provide proper information to the user. We will learn how to deal with branches in Python in the following part."
   ]
  },
  {
   "cell_type": "markdown",
   "id": "23cc43f2-7c15-4d8b-8aa9-488b92137872",
   "metadata": {},
   "source": [
    "#### Task 2 Boolean operators\n",
    "\n",
    "Checks whether the year represented by the variable `year` is a leap year. A leap year is divisible by 4, except for years that are divisible by 100. However, years divisible by 400 are leap years."
   ]
  },
  {
   "cell_type": "code",
   "execution_count": null,
   "id": "7276e525-01c2-40bd-82c4-8829f055ddd9",
   "metadata": {},
   "outputs": [],
   "source": [
    "year = 1900  # also check 2000 (T), 1998 (F), 1996 (T), 1800 (F)\n",
    "# your code here"
   ]
  }
 ],
 "metadata": {
  "kernelspec": {
   "display_name": ".venv",
   "language": "python",
   "name": "python3"
  },
  "language_info": {
   "codemirror_mode": {
    "name": "ipython",
    "version": 3
   },
   "file_extension": ".py",
   "mimetype": "text/x-python",
   "name": "python",
   "nbconvert_exporter": "python",
   "pygments_lexer": "ipython3",
   "version": "3.10.12"
  }
 },
 "nbformat": 4,
 "nbformat_minor": 5
}
